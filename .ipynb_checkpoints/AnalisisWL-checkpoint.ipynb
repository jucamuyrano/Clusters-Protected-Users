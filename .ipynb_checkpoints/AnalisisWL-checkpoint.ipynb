{
 "cells": [
  {
   "cell_type": "markdown",
   "metadata": {},
   "source": [
    "## Beginning: Credentials and Libraries"
   ]
  },
  {
   "cell_type": "markdown",
   "metadata": {},
   "source": [
    "### Import libraries"
   ]
  },
  {
   "cell_type": "code",
   "execution_count": 1,
   "metadata": {},
   "outputs": [],
   "source": [
    "#pip install pandas --upgrade"
   ]
  },
  {
   "cell_type": "code",
   "execution_count": 2,
   "metadata": {},
   "outputs": [],
   "source": [
    "#pip install numpy --upgrade"
   ]
  },
  {
   "cell_type": "code",
   "execution_count": 3,
   "metadata": {},
   "outputs": [],
   "source": [
    "#pip install seaborn --upgrade"
   ]
  },
  {
   "cell_type": "code",
   "execution_count": 4,
   "metadata": {},
   "outputs": [],
   "source": [
    "#pip install matplot --upgrade"
   ]
  },
  {
   "cell_type": "code",
   "execution_count": 5,
   "metadata": {},
   "outputs": [],
   "source": [
    "#from melitk.analytics.connectors.core.authentication import Authentication\n",
    "#from melitk.analytics.connectors.teradata import ConnTeradata\n",
    "import pandas as pd\n",
    "import numpy as np\n",
    "import os\n",
    "import matplotlib.pyplot as plt\n",
    "import seaborn as sns\n",
    "from datetime import datetime"
   ]
  },
  {
   "cell_type": "code",
   "execution_count": 6,
   "metadata": {},
   "outputs": [],
   "source": [
    "#pd.set_option(\"display.max_columns\", None)"
   ]
  },
  {
   "cell_type": "markdown",
   "metadata": {},
   "source": [
    "### My path"
   ]
  },
  {
   "cell_type": "code",
   "execution_count": 7,
   "metadata": {},
   "outputs": [
    {
     "name": "stdout",
     "output_type": "stream",
     "text": [
      "/Users/jucamuyrano/Documents/GitHub/Clusters-Protected-Users\n"
     ]
    }
   ],
   "source": [
    "import os\n",
    "print(os.getcwd())"
   ]
  },
  {
   "cell_type": "markdown",
   "metadata": {},
   "source": [
    "## Upload Data Base"
   ]
  },
  {
   "cell_type": "markdown",
   "metadata": {},
   "source": [
    "### API data form users"
   ]
  },
  {
   "cell_type": "code",
   "execution_count": 8,
   "metadata": {
    "scrolled": true
   },
   "outputs": [],
   "source": [
    "df_api = pd.read_csv(r'UsersAPI.csv')\n"
   ]
  },
  {
   "cell_type": "code",
   "execution_count": 9,
   "metadata": {},
   "outputs": [
    {
     "data": {
      "text/plain": [
       "(8369, 6)"
      ]
     },
     "execution_count": 9,
     "metadata": {},
     "output_type": "execute_result"
    }
   ],
   "source": [
    "df_api.shape"
   ]
  },
  {
   "cell_type": "code",
   "execution_count": 10,
   "metadata": {},
   "outputs": [
    {
     "data": {
      "text/html": [
       "<div>\n",
       "<style scoped>\n",
       "    .dataframe tbody tr th:only-of-type {\n",
       "        vertical-align: middle;\n",
       "    }\n",
       "\n",
       "    .dataframe tbody tr th {\n",
       "        vertical-align: top;\n",
       "    }\n",
       "\n",
       "    .dataframe thead th {\n",
       "        text-align: right;\n",
       "    }\n",
       "</style>\n",
       "<table border=\"1\" class=\"dataframe\">\n",
       "  <thead>\n",
       "    <tr style=\"text-align: right;\">\n",
       "      <th></th>\n",
       "      <th>Unnamed: 0</th>\n",
       "      <th>id</th>\n",
       "      <th>registration_date</th>\n",
       "      <th>flag_internal</th>\n",
       "      <th>test_user</th>\n",
       "      <th>flag_on2</th>\n",
       "    </tr>\n",
       "  </thead>\n",
       "  <tbody>\n",
       "    <tr>\n",
       "      <th>0</th>\n",
       "      <td>0</td>\n",
       "      <td>201114848</td>\n",
       "      <td>2015-12-16</td>\n",
       "      <td>0</td>\n",
       "      <td>0</td>\n",
       "      <td>0</td>\n",
       "    </tr>\n",
       "    <tr>\n",
       "      <th>1</th>\n",
       "      <td>1</td>\n",
       "      <td>79394233</td>\n",
       "      <td>2005-03-21</td>\n",
       "      <td>0</td>\n",
       "      <td>0</td>\n",
       "      <td>0</td>\n",
       "    </tr>\n",
       "    <tr>\n",
       "      <th>2</th>\n",
       "      <td>2</td>\n",
       "      <td>19524979</td>\n",
       "      <td>2007-06-09</td>\n",
       "      <td>0</td>\n",
       "      <td>0</td>\n",
       "      <td>0</td>\n",
       "    </tr>\n",
       "    <tr>\n",
       "      <th>3</th>\n",
       "      <td>3</td>\n",
       "      <td>171724486</td>\n",
       "      <td>2014-11-26</td>\n",
       "      <td>0</td>\n",
       "      <td>0</td>\n",
       "      <td>0</td>\n",
       "    </tr>\n",
       "    <tr>\n",
       "      <th>4</th>\n",
       "      <td>4</td>\n",
       "      <td>74937266</td>\n",
       "      <td>2004-08-03</td>\n",
       "      <td>0</td>\n",
       "      <td>0</td>\n",
       "      <td>0</td>\n",
       "    </tr>\n",
       "  </tbody>\n",
       "</table>\n",
       "</div>"
      ],
      "text/plain": [
       "   Unnamed: 0         id registration_date  flag_internal  test_user  flag_on2\n",
       "0           0  201114848        2015-12-16              0          0         0\n",
       "1           1   79394233        2005-03-21              0          0         0\n",
       "2           2   19524979        2007-06-09              0          0         0\n",
       "3           3  171724486        2014-11-26              0          0         0\n",
       "4           4   74937266        2004-08-03              0          0         0"
      ]
     },
     "execution_count": 10,
     "metadata": {},
     "output_type": "execute_result"
    }
   ],
   "source": [
    "df_api.head(5)"
   ]
  },
  {
   "cell_type": "markdown",
   "metadata": {},
   "source": [
    "### Upload data base from Teradata"
   ]
  },
  {
   "cell_type": "code",
   "execution_count": 11,
   "metadata": {},
   "outputs": [],
   "source": [
    "df = pd.read_csv(r'ResWL.csv')"
   ]
  },
  {
   "cell_type": "code",
   "execution_count": 12,
   "metadata": {},
   "outputs": [
    {
     "data": {
      "text/plain": [
       "(7848, 27)"
      ]
     },
     "execution_count": 12,
     "metadata": {},
     "output_type": "execute_result"
    }
   ],
   "source": [
    "df.shape"
   ]
  },
  {
   "cell_type": "code",
   "execution_count": 13,
   "metadata": {},
   "outputs": [
    {
     "data": {
      "text/html": [
       "<div>\n",
       "<style scoped>\n",
       "    .dataframe tbody tr th:only-of-type {\n",
       "        vertical-align: middle;\n",
       "    }\n",
       "\n",
       "    .dataframe tbody tr th {\n",
       "        vertical-align: top;\n",
       "    }\n",
       "\n",
       "    .dataframe thead th {\n",
       "        text-align: right;\n",
       "    }\n",
       "</style>\n",
       "<table border=\"1\" class=\"dataframe\">\n",
       "  <thead>\n",
       "    <tr style=\"text-align: right;\">\n",
       "      <th></th>\n",
       "      <th>CUS_CUST_ID</th>\n",
       "      <th>sit_site_id</th>\n",
       "      <th>cus_nickname</th>\n",
       "      <th>flag_on</th>\n",
       "      <th>flag_ca</th>\n",
       "      <th>flag_mia</th>\n",
       "      <th>flag_up</th>\n",
       "      <th>flag_trusted_seller</th>\n",
       "      <th>flag_gmv_high</th>\n",
       "      <th>flag_gmv_low</th>\n",
       "      <th>...</th>\n",
       "      <th>active_91_180</th>\n",
       "      <th>active_181_365</th>\n",
       "      <th>inactive</th>\n",
       "      <th>last_transaction</th>\n",
       "      <th>tpv_approved</th>\n",
       "      <th>gmv_not_refund</th>\n",
       "      <th>count_orders</th>\n",
       "      <th>cashout</th>\n",
       "      <th>gmv_claims_seller</th>\n",
       "      <th>count_claims_seller</th>\n",
       "    </tr>\n",
       "  </thead>\n",
       "  <tbody>\n",
       "    <tr>\n",
       "      <th>0</th>\n",
       "      <td>201114848</td>\n",
       "      <td>MCO</td>\n",
       "      <td>NaN</td>\n",
       "      <td>0</td>\n",
       "      <td>0</td>\n",
       "      <td>0</td>\n",
       "      <td>1</td>\n",
       "      <td>0</td>\n",
       "      <td>0</td>\n",
       "      <td>0</td>\n",
       "      <td>...</td>\n",
       "      <td>1</td>\n",
       "      <td>0</td>\n",
       "      <td>0</td>\n",
       "      <td>2020-09-26</td>\n",
       "      <td>0.0000</td>\n",
       "      <td>0.00</td>\n",
       "      <td>0</td>\n",
       "      <td>0.00</td>\n",
       "      <td>0.00</td>\n",
       "      <td>0</td>\n",
       "    </tr>\n",
       "    <tr>\n",
       "      <th>1</th>\n",
       "      <td>79394233</td>\n",
       "      <td>MLB</td>\n",
       "      <td>TOROFFROAD</td>\n",
       "      <td>1</td>\n",
       "      <td>1</td>\n",
       "      <td>1</td>\n",
       "      <td>1</td>\n",
       "      <td>1</td>\n",
       "      <td>1</td>\n",
       "      <td>0</td>\n",
       "      <td>...</td>\n",
       "      <td>0</td>\n",
       "      <td>0</td>\n",
       "      <td>0</td>\n",
       "      <td>2021-03-21</td>\n",
       "      <td>104565.5113</td>\n",
       "      <td>149395.80</td>\n",
       "      <td>3147</td>\n",
       "      <td>99.64</td>\n",
       "      <td>17579.06</td>\n",
       "      <td>224</td>\n",
       "    </tr>\n",
       "    <tr>\n",
       "      <th>2</th>\n",
       "      <td>19524979</td>\n",
       "      <td>MLB</td>\n",
       "      <td>SJ ELETROIMPORTS</td>\n",
       "      <td>1</td>\n",
       "      <td>1</td>\n",
       "      <td>0</td>\n",
       "      <td>1</td>\n",
       "      <td>1</td>\n",
       "      <td>1</td>\n",
       "      <td>0</td>\n",
       "      <td>...</td>\n",
       "      <td>0</td>\n",
       "      <td>0</td>\n",
       "      <td>0</td>\n",
       "      <td>2021-03-21</td>\n",
       "      <td>67016.5128</td>\n",
       "      <td>102103.22</td>\n",
       "      <td>2389</td>\n",
       "      <td>1266.31</td>\n",
       "      <td>18153.92</td>\n",
       "      <td>231</td>\n",
       "    </tr>\n",
       "    <tr>\n",
       "      <th>3</th>\n",
       "      <td>171724486</td>\n",
       "      <td>MLB</td>\n",
       "      <td>MICHELINI PARTS</td>\n",
       "      <td>1</td>\n",
       "      <td>1</td>\n",
       "      <td>1</td>\n",
       "      <td>1</td>\n",
       "      <td>1</td>\n",
       "      <td>1</td>\n",
       "      <td>0</td>\n",
       "      <td>...</td>\n",
       "      <td>0</td>\n",
       "      <td>0</td>\n",
       "      <td>0</td>\n",
       "      <td>2021-03-21</td>\n",
       "      <td>89751.3989</td>\n",
       "      <td>133802.14</td>\n",
       "      <td>5694</td>\n",
       "      <td>373.52</td>\n",
       "      <td>13131.80</td>\n",
       "      <td>460</td>\n",
       "    </tr>\n",
       "    <tr>\n",
       "      <th>4</th>\n",
       "      <td>74937266</td>\n",
       "      <td>MLM</td>\n",
       "      <td>SKP_MX</td>\n",
       "      <td>1</td>\n",
       "      <td>1</td>\n",
       "      <td>1</td>\n",
       "      <td>1</td>\n",
       "      <td>1</td>\n",
       "      <td>1</td>\n",
       "      <td>0</td>\n",
       "      <td>...</td>\n",
       "      <td>0</td>\n",
       "      <td>0</td>\n",
       "      <td>0</td>\n",
       "      <td>2021-03-21</td>\n",
       "      <td>63727.4154</td>\n",
       "      <td>109327.71</td>\n",
       "      <td>2092</td>\n",
       "      <td>361.75</td>\n",
       "      <td>6433.09</td>\n",
       "      <td>125</td>\n",
       "    </tr>\n",
       "  </tbody>\n",
       "</table>\n",
       "<p>5 rows × 27 columns</p>\n",
       "</div>"
      ],
      "text/plain": [
       "   CUS_CUST_ID sit_site_id      cus_nickname  flag_on  flag_ca  flag_mia  \\\n",
       "0    201114848      MCO                  NaN        0        0         0   \n",
       "1     79394233      MLB           TOROFFROAD        1        1         1   \n",
       "2     19524979      MLB     SJ ELETROIMPORTS        1        1         0   \n",
       "3    171724486      MLB      MICHELINI PARTS        1        1         1   \n",
       "4     74937266      MLM               SKP_MX        1        1         1   \n",
       "\n",
       "   flag_up  flag_trusted_seller  flag_gmv_high  flag_gmv_low  ...  \\\n",
       "0        1                    0              0             0  ...   \n",
       "1        1                    1              1             0  ...   \n",
       "2        1                    1              1             0  ...   \n",
       "3        1                    1              1             0  ...   \n",
       "4        1                    1              1             0  ...   \n",
       "\n",
       "   active_91_180  active_181_365  inactive  last_transaction  tpv_approved  \\\n",
       "0              1               0         0        2020-09-26        0.0000   \n",
       "1              0               0         0        2021-03-21   104565.5113   \n",
       "2              0               0         0        2021-03-21    67016.5128   \n",
       "3              0               0         0        2021-03-21    89751.3989   \n",
       "4              0               0         0        2021-03-21    63727.4154   \n",
       "\n",
       "   gmv_not_refund  count_orders  cashout  gmv_claims_seller  \\\n",
       "0            0.00             0     0.00               0.00   \n",
       "1       149395.80          3147    99.64           17579.06   \n",
       "2       102103.22          2389  1266.31           18153.92   \n",
       "3       133802.14          5694   373.52           13131.80   \n",
       "4       109327.71          2092   361.75            6433.09   \n",
       "\n",
       "   count_claims_seller  \n",
       "0                    0  \n",
       "1                  224  \n",
       "2                  231  \n",
       "3                  460  \n",
       "4                  125  \n",
       "\n",
       "[5 rows x 27 columns]"
      ]
     },
     "execution_count": 13,
     "metadata": {},
     "output_type": "execute_result"
    }
   ],
   "source": [
    "df.head(5)"
   ]
  },
  {
   "cell_type": "markdown",
   "metadata": {},
   "source": [
    "### Upload data from BACEN"
   ]
  },
  {
   "cell_type": "code",
   "execution_count": 14,
   "metadata": {},
   "outputs": [],
   "source": [
    "df_legales = pd.read_csv(r'base_legales.csv')"
   ]
  },
  {
   "cell_type": "code",
   "execution_count": 15,
   "metadata": {},
   "outputs": [
    {
     "data": {
      "text/plain": [
       "(1974, 1)"
      ]
     },
     "execution_count": 15,
     "metadata": {},
     "output_type": "execute_result"
    }
   ],
   "source": [
    "df_legales.shape"
   ]
  },
  {
   "cell_type": "code",
   "execution_count": 16,
   "metadata": {},
   "outputs": [
    {
     "data": {
      "text/html": [
       "<div>\n",
       "<style scoped>\n",
       "    .dataframe tbody tr th:only-of-type {\n",
       "        vertical-align: middle;\n",
       "    }\n",
       "\n",
       "    .dataframe tbody tr th {\n",
       "        vertical-align: top;\n",
       "    }\n",
       "\n",
       "    .dataframe thead th {\n",
       "        text-align: right;\n",
       "    }\n",
       "</style>\n",
       "<table border=\"1\" class=\"dataframe\">\n",
       "  <thead>\n",
       "    <tr style=\"text-align: right;\">\n",
       "      <th></th>\n",
       "      <th>cust_id</th>\n",
       "    </tr>\n",
       "  </thead>\n",
       "  <tbody>\n",
       "    <tr>\n",
       "      <th>0</th>\n",
       "      <td>155261575</td>\n",
       "    </tr>\n",
       "    <tr>\n",
       "      <th>1</th>\n",
       "      <td>182644618</td>\n",
       "    </tr>\n",
       "    <tr>\n",
       "      <th>2</th>\n",
       "      <td>74162018</td>\n",
       "    </tr>\n",
       "    <tr>\n",
       "      <th>3</th>\n",
       "      <td>320253987</td>\n",
       "    </tr>\n",
       "    <tr>\n",
       "      <th>4</th>\n",
       "      <td>223316074</td>\n",
       "    </tr>\n",
       "  </tbody>\n",
       "</table>\n",
       "</div>"
      ],
      "text/plain": [
       "     cust_id\n",
       "0  155261575\n",
       "1  182644618\n",
       "2   74162018\n",
       "3  320253987\n",
       "4  223316074"
      ]
     },
     "execution_count": 16,
     "metadata": {},
     "output_type": "execute_result"
    }
   ],
   "source": [
    "df_legales.head(5)"
   ]
  },
  {
   "cell_type": "markdown",
   "metadata": {},
   "source": [
    "## Data Frame"
   ]
  },
  {
   "cell_type": "markdown",
   "metadata": {},
   "source": [
    "### Left Join of API DB and Teradata DB to get DF Parcial 1"
   ]
  },
  {
   "cell_type": "code",
   "execution_count": 17,
   "metadata": {},
   "outputs": [],
   "source": [
    "df_parcial_1=pd.merge(left = df_api, right = df,\n",
    "                  how = 'left',\n",
    "                  left_on='id', right_on='CUS_CUST_ID')"
   ]
  },
  {
   "cell_type": "code",
   "execution_count": 18,
   "metadata": {},
   "outputs": [
    {
     "data": {
      "text/plain": [
       "(8369, 33)"
      ]
     },
     "execution_count": 18,
     "metadata": {},
     "output_type": "execute_result"
    }
   ],
   "source": [
    "df_parcial_1.shape"
   ]
  },
  {
   "cell_type": "markdown",
   "metadata": {},
   "source": [
    "### Left Join of DF Parcial 1 and BACEN DB to get DF Parcial 2"
   ]
  },
  {
   "cell_type": "code",
   "execution_count": 19,
   "metadata": {},
   "outputs": [],
   "source": [
    "df_parcial_2=pd.merge(left = df_parcial_1, right = df_legales,\n",
    "                  how = 'left',\n",
    "                  left_on='id', right_on='cust_id')"
   ]
  },
  {
   "cell_type": "code",
   "execution_count": 20,
   "metadata": {},
   "outputs": [],
   "source": [
    "df_parcial_2['cust_id'].fillna(0, inplace=True)"
   ]
  },
  {
   "cell_type": "code",
   "execution_count": 21,
   "metadata": {},
   "outputs": [
    {
     "data": {
      "text/plain": [
       "(8369, 34)"
      ]
     },
     "execution_count": 21,
     "metadata": {},
     "output_type": "execute_result"
    }
   ],
   "source": [
    "df_parcial_2.shape"
   ]
  },
  {
   "cell_type": "code",
   "execution_count": 22,
   "metadata": {},
   "outputs": [],
   "source": [
    "df_parcial_2['cust_id'].fillna(0, inplace=True)"
   ]
  },
  {
   "cell_type": "markdown",
   "metadata": {},
   "source": [
    "### Create column flag_legales"
   ]
  },
  {
   "cell_type": "code",
   "execution_count": 23,
   "metadata": {},
   "outputs": [],
   "source": [
    "cond = df_parcial_2['cust_id']!=0\n",
    "df_parcial_2['flag_legales']= 0\n",
    "df_parcial_2.loc[cond,'flag_legales'] = 1"
   ]
  },
  {
   "cell_type": "code",
   "execution_count": 24,
   "metadata": {},
   "outputs": [
    {
     "data": {
      "text/plain": [
       "flag_legales\n",
       "0    8209\n",
       "1     160\n",
       "dtype: int64"
      ]
     },
     "execution_count": 24,
     "metadata": {},
     "output_type": "execute_result"
    }
   ],
   "source": [
    "df_parcial_2.value_counts('flag_legales')"
   ]
  },
  {
   "cell_type": "markdown",
   "metadata": {},
   "source": [
    "### Filter the BACEN users"
   ]
  },
  {
   "cell_type": "code",
   "execution_count": 25,
   "metadata": {},
   "outputs": [],
   "source": [
    "df_parcial_3=df_parcial_2[df_parcial_2['flag_legales']==0]"
   ]
  },
  {
   "cell_type": "code",
   "execution_count": 26,
   "metadata": {},
   "outputs": [
    {
     "data": {
      "text/plain": [
       "(8209, 35)"
      ]
     },
     "execution_count": 26,
     "metadata": {},
     "output_type": "execute_result"
    }
   ],
   "source": [
    "df_parcial_3.shape"
   ]
  },
  {
   "cell_type": "markdown",
   "metadata": {},
   "source": [
    "### Filter the internal users"
   ]
  },
  {
   "cell_type": "code",
   "execution_count": 27,
   "metadata": {},
   "outputs": [],
   "source": [
    "df_parcial_4=df_parcial_3[df_parcial_3['flag_internal']==0]"
   ]
  },
  {
   "cell_type": "code",
   "execution_count": 28,
   "metadata": {},
   "outputs": [
    {
     "data": {
      "text/plain": [
       "(8004, 35)"
      ]
     },
     "execution_count": 28,
     "metadata": {},
     "output_type": "execute_result"
    }
   ],
   "source": [
    "df_parcial_4.shape"
   ]
  },
  {
   "cell_type": "markdown",
   "metadata": {},
   "source": [
    "### Filter the test users"
   ]
  },
  {
   "cell_type": "code",
   "execution_count": 29,
   "metadata": {},
   "outputs": [],
   "source": [
    "df_final=df_parcial_4[df_parcial_4['test_user']==0]"
   ]
  },
  {
   "cell_type": "code",
   "execution_count": 30,
   "metadata": {},
   "outputs": [
    {
     "data": {
      "text/plain": [
       "(7483, 35)"
      ]
     },
     "execution_count": 30,
     "metadata": {},
     "output_type": "execute_result"
    }
   ],
   "source": [
    "df_final.shape"
   ]
  },
  {
   "cell_type": "code",
   "execution_count": 31,
   "metadata": {},
   "outputs": [],
   "source": [
    "df_final = df_final.reset_index(drop=True)"
   ]
  },
  {
   "cell_type": "code",
   "execution_count": 33,
   "metadata": {},
   "outputs": [
    {
     "data": {
      "text/html": [
       "<div>\n",
       "<style scoped>\n",
       "    .dataframe tbody tr th:only-of-type {\n",
       "        vertical-align: middle;\n",
       "    }\n",
       "\n",
       "    .dataframe tbody tr th {\n",
       "        vertical-align: top;\n",
       "    }\n",
       "\n",
       "    .dataframe thead th {\n",
       "        text-align: right;\n",
       "    }\n",
       "</style>\n",
       "<table border=\"1\" class=\"dataframe\">\n",
       "  <thead>\n",
       "    <tr style=\"text-align: right;\">\n",
       "      <th></th>\n",
       "      <th>Unnamed: 0</th>\n",
       "      <th>id</th>\n",
       "      <th>registration_date</th>\n",
       "      <th>flag_internal</th>\n",
       "      <th>test_user</th>\n",
       "      <th>flag_on2</th>\n",
       "      <th>CUS_CUST_ID</th>\n",
       "      <th>sit_site_id</th>\n",
       "      <th>cus_nickname</th>\n",
       "      <th>flag_on</th>\n",
       "      <th>...</th>\n",
       "      <th>inactive</th>\n",
       "      <th>last_transaction</th>\n",
       "      <th>tpv_approved</th>\n",
       "      <th>gmv_not_refund</th>\n",
       "      <th>count_orders</th>\n",
       "      <th>cashout</th>\n",
       "      <th>gmv_claims_seller</th>\n",
       "      <th>count_claims_seller</th>\n",
       "      <th>cust_id</th>\n",
       "      <th>flag_legales</th>\n",
       "    </tr>\n",
       "  </thead>\n",
       "  <tbody>\n",
       "    <tr>\n",
       "      <th>0</th>\n",
       "      <td>0</td>\n",
       "      <td>201114848</td>\n",
       "      <td>2015-12-16</td>\n",
       "      <td>0</td>\n",
       "      <td>0</td>\n",
       "      <td>0</td>\n",
       "      <td>201114848.0</td>\n",
       "      <td>MCO</td>\n",
       "      <td>NaN</td>\n",
       "      <td>0.0</td>\n",
       "      <td>...</td>\n",
       "      <td>0.0</td>\n",
       "      <td>2020-09-26</td>\n",
       "      <td>0.0000</td>\n",
       "      <td>0.00</td>\n",
       "      <td>0.0</td>\n",
       "      <td>0.00</td>\n",
       "      <td>0.00</td>\n",
       "      <td>0.0</td>\n",
       "      <td>0.0</td>\n",
       "      <td>0</td>\n",
       "    </tr>\n",
       "    <tr>\n",
       "      <th>1</th>\n",
       "      <td>1</td>\n",
       "      <td>79394233</td>\n",
       "      <td>2005-03-21</td>\n",
       "      <td>0</td>\n",
       "      <td>0</td>\n",
       "      <td>0</td>\n",
       "      <td>79394233.0</td>\n",
       "      <td>MLB</td>\n",
       "      <td>TOROFFROAD</td>\n",
       "      <td>1.0</td>\n",
       "      <td>...</td>\n",
       "      <td>0.0</td>\n",
       "      <td>2021-03-21</td>\n",
       "      <td>104565.5113</td>\n",
       "      <td>149395.80</td>\n",
       "      <td>3147.0</td>\n",
       "      <td>99.64</td>\n",
       "      <td>17579.06</td>\n",
       "      <td>224.0</td>\n",
       "      <td>0.0</td>\n",
       "      <td>0</td>\n",
       "    </tr>\n",
       "    <tr>\n",
       "      <th>2</th>\n",
       "      <td>2</td>\n",
       "      <td>19524979</td>\n",
       "      <td>2007-06-09</td>\n",
       "      <td>0</td>\n",
       "      <td>0</td>\n",
       "      <td>0</td>\n",
       "      <td>19524979.0</td>\n",
       "      <td>MLB</td>\n",
       "      <td>SJ ELETROIMPORTS</td>\n",
       "      <td>1.0</td>\n",
       "      <td>...</td>\n",
       "      <td>0.0</td>\n",
       "      <td>2021-03-21</td>\n",
       "      <td>67016.5128</td>\n",
       "      <td>102103.22</td>\n",
       "      <td>2389.0</td>\n",
       "      <td>1266.31</td>\n",
       "      <td>18153.92</td>\n",
       "      <td>231.0</td>\n",
       "      <td>0.0</td>\n",
       "      <td>0</td>\n",
       "    </tr>\n",
       "    <tr>\n",
       "      <th>3</th>\n",
       "      <td>3</td>\n",
       "      <td>171724486</td>\n",
       "      <td>2014-11-26</td>\n",
       "      <td>0</td>\n",
       "      <td>0</td>\n",
       "      <td>0</td>\n",
       "      <td>171724486.0</td>\n",
       "      <td>MLB</td>\n",
       "      <td>MICHELINI PARTS</td>\n",
       "      <td>1.0</td>\n",
       "      <td>...</td>\n",
       "      <td>0.0</td>\n",
       "      <td>2021-03-21</td>\n",
       "      <td>89751.3989</td>\n",
       "      <td>133802.14</td>\n",
       "      <td>5694.0</td>\n",
       "      <td>373.52</td>\n",
       "      <td>13131.80</td>\n",
       "      <td>460.0</td>\n",
       "      <td>0.0</td>\n",
       "      <td>0</td>\n",
       "    </tr>\n",
       "    <tr>\n",
       "      <th>4</th>\n",
       "      <td>4</td>\n",
       "      <td>74937266</td>\n",
       "      <td>2004-08-03</td>\n",
       "      <td>0</td>\n",
       "      <td>0</td>\n",
       "      <td>0</td>\n",
       "      <td>74937266.0</td>\n",
       "      <td>MLM</td>\n",
       "      <td>SKP_MX</td>\n",
       "      <td>1.0</td>\n",
       "      <td>...</td>\n",
       "      <td>0.0</td>\n",
       "      <td>2021-03-21</td>\n",
       "      <td>63727.4154</td>\n",
       "      <td>109327.71</td>\n",
       "      <td>2092.0</td>\n",
       "      <td>361.75</td>\n",
       "      <td>6433.09</td>\n",
       "      <td>125.0</td>\n",
       "      <td>0.0</td>\n",
       "      <td>0</td>\n",
       "    </tr>\n",
       "  </tbody>\n",
       "</table>\n",
       "<p>5 rows × 35 columns</p>\n",
       "</div>"
      ],
      "text/plain": [
       "   Unnamed: 0         id registration_date  flag_internal  test_user  \\\n",
       "0           0  201114848        2015-12-16              0          0   \n",
       "1           1   79394233        2005-03-21              0          0   \n",
       "2           2   19524979        2007-06-09              0          0   \n",
       "3           3  171724486        2014-11-26              0          0   \n",
       "4           4   74937266        2004-08-03              0          0   \n",
       "\n",
       "   flag_on2  CUS_CUST_ID sit_site_id      cus_nickname  flag_on  ...  \\\n",
       "0         0  201114848.0      MCO                  NaN      0.0  ...   \n",
       "1         0   79394233.0      MLB           TOROFFROAD      1.0  ...   \n",
       "2         0   19524979.0      MLB     SJ ELETROIMPORTS      1.0  ...   \n",
       "3         0  171724486.0      MLB      MICHELINI PARTS      1.0  ...   \n",
       "4         0   74937266.0      MLM               SKP_MX      1.0  ...   \n",
       "\n",
       "   inactive  last_transaction  tpv_approved  gmv_not_refund  count_orders  \\\n",
       "0       0.0        2020-09-26        0.0000            0.00           0.0   \n",
       "1       0.0        2021-03-21   104565.5113       149395.80        3147.0   \n",
       "2       0.0        2021-03-21    67016.5128       102103.22        2389.0   \n",
       "3       0.0        2021-03-21    89751.3989       133802.14        5694.0   \n",
       "4       0.0        2021-03-21    63727.4154       109327.71        2092.0   \n",
       "\n",
       "   cashout  gmv_claims_seller  count_claims_seller  cust_id  flag_legales  \n",
       "0     0.00               0.00                  0.0      0.0             0  \n",
       "1    99.64           17579.06                224.0      0.0             0  \n",
       "2  1266.31           18153.92                231.0      0.0             0  \n",
       "3   373.52           13131.80                460.0      0.0             0  \n",
       "4   361.75            6433.09                125.0      0.0             0  \n",
       "\n",
       "[5 rows x 35 columns]"
      ]
     },
     "execution_count": 33,
     "metadata": {},
     "output_type": "execute_result"
    }
   ],
   "source": [
    "df_final.head(5)"
   ]
  },
  {
   "cell_type": "code",
   "execution_count": 34,
   "metadata": {},
   "outputs": [
    {
     "data": {
      "text/plain": [
       "Index(['Unnamed: 0', 'id', 'registration_date', 'flag_internal', 'test_user',\n",
       "       'flag_on2', 'CUS_CUST_ID', 'sit_site_id', 'cus_nickname', 'flag_on',\n",
       "       'flag_ca', 'flag_mia', 'flag_up', 'flag_trusted_seller',\n",
       "       'flag_gmv_high', 'flag_gmv_low', 'flag_tpv_high', 'flag_tpv_low',\n",
       "       'flag_repu_ml', 'flag_repu_glg', 'flag_repu_yor', 'active_0_30',\n",
       "       'active_31_90', 'active_91_180', 'active_181_365', 'inactive',\n",
       "       'last_transaction', 'tpv_approved', 'gmv_not_refund', 'count_orders',\n",
       "       'cashout', 'gmv_claims_seller', 'count_claims_seller', 'cust_id',\n",
       "       'flag_legales'],\n",
       "      dtype='object')"
      ]
     },
     "execution_count": 34,
     "metadata": {},
     "output_type": "execute_result"
    }
   ],
   "source": [
    "df_final.columns"
   ]
  },
  {
   "cell_type": "markdown",
   "metadata": {},
   "source": [
    "### Create column flago on final with users of the ON = 1"
   ]
  },
  {
   "cell_type": "code",
   "execution_count": 35,
   "metadata": {},
   "outputs": [],
   "source": [
    "cond = df_final['flag_on']==1\n",
    "cond2 = df_final['flag_on2'] == 1\n",
    "cond3 = (cond) | (cond2)\n",
    "df_final['flag_on_final']= 0\n",
    "df_final.loc[cond3,'flag_on_final'] = 1"
   ]
  },
  {
   "cell_type": "markdown",
   "metadata": {},
   "source": [
    "### Create column actividad with the active users = 1"
   ]
  },
  {
   "cell_type": "code",
   "execution_count": 36,
   "metadata": {},
   "outputs": [],
   "source": [
    "cond = df_final['active_0_30']==1\n",
    "cond2 = df_final['active_31_90'] == 1\n",
    "cond3 = (cond) | (cond2)\n",
    "df_final['activo']= 0\n",
    "df_final.loc[cond3,'activo'] = 1"
   ]
  },
  {
   "cell_type": "markdown",
   "metadata": {},
   "source": [
    "### Create column with users that have TPV null = 1"
   ]
  },
  {
   "cell_type": "code",
   "execution_count": 37,
   "metadata": {},
   "outputs": [],
   "source": [
    "cond1 = df_final['tpv_approved'] == 0\n",
    "df_final['tpv_nulo']= 0\n",
    "df_final.loc[cond1,'tpv_nulo'] = 1"
   ]
  },
  {
   "cell_type": "markdown",
   "metadata": {},
   "source": [
    "### Create column with users that have GMV null = 1"
   ]
  },
  {
   "cell_type": "code",
   "execution_count": 38,
   "metadata": {},
   "outputs": [],
   "source": [
    "cond1 = df_final['gmv_not_refund'] == 0\n",
    "df_final['gmv_nulo']= 0\n",
    "df_final.loc[cond1,'gmv_nulo'] = 1"
   ]
  },
  {
   "cell_type": "markdown",
   "metadata": {},
   "source": [
    "### Drope columns that are not needed in data frame"
   ]
  },
  {
   "cell_type": "code",
   "execution_count": 39,
   "metadata": {},
   "outputs": [],
   "source": [
    "df_final.drop(columns=['cust_id','CUS_CUST_ID','test_user','flag_legales','flag_internal','Unnamed: 0','flag_on2','flag_on','active_0_30','active_31_90','active_91_180','active_181_365','inactive'], inplace = True)"
   ]
  },
  {
   "cell_type": "markdown",
   "metadata": {},
   "source": [
    "### Change column name id to CUS_CUST_ID"
   ]
  },
  {
   "cell_type": "code",
   "execution_count": 40,
   "metadata": {},
   "outputs": [],
   "source": [
    "df_final.rename(columns={'id': 'CUS_CUST_ID'}, inplace=True)"
   ]
  },
  {
   "cell_type": "markdown",
   "metadata": {},
   "source": [
    "### Show the df_final"
   ]
  },
  {
   "cell_type": "code",
   "execution_count": 41,
   "metadata": {},
   "outputs": [],
   "source": [
    "df_final.fillna(0, inplace=True)"
   ]
  },
  {
   "cell_type": "code",
   "execution_count": 42,
   "metadata": {},
   "outputs": [
    {
     "data": {
      "text/plain": [
       "Index(['CUS_CUST_ID', 'registration_date', 'sit_site_id', 'cus_nickname',\n",
       "       'flag_ca', 'flag_mia', 'flag_up', 'flag_trusted_seller',\n",
       "       'flag_gmv_high', 'flag_gmv_low', 'flag_tpv_high', 'flag_tpv_low',\n",
       "       'flag_repu_ml', 'flag_repu_glg', 'flag_repu_yor', 'last_transaction',\n",
       "       'tpv_approved', 'gmv_not_refund', 'count_orders', 'cashout',\n",
       "       'gmv_claims_seller', 'count_claims_seller', 'flag_on_final', 'activo',\n",
       "       'tpv_nulo', 'gmv_nulo'],\n",
       "      dtype='object')"
      ]
     },
     "execution_count": 42,
     "metadata": {},
     "output_type": "execute_result"
    }
   ],
   "source": [
    "df_final.columns"
   ]
  },
  {
   "cell_type": "code",
   "execution_count": 43,
   "metadata": {
    "scrolled": true
   },
   "outputs": [
    {
     "data": {
      "text/html": [
       "<div>\n",
       "<style scoped>\n",
       "    .dataframe tbody tr th:only-of-type {\n",
       "        vertical-align: middle;\n",
       "    }\n",
       "\n",
       "    .dataframe tbody tr th {\n",
       "        vertical-align: top;\n",
       "    }\n",
       "\n",
       "    .dataframe thead th {\n",
       "        text-align: right;\n",
       "    }\n",
       "</style>\n",
       "<table border=\"1\" class=\"dataframe\">\n",
       "  <thead>\n",
       "    <tr style=\"text-align: right;\">\n",
       "      <th></th>\n",
       "      <th>CUS_CUST_ID</th>\n",
       "      <th>registration_date</th>\n",
       "      <th>sit_site_id</th>\n",
       "      <th>cus_nickname</th>\n",
       "      <th>flag_ca</th>\n",
       "      <th>flag_mia</th>\n",
       "      <th>flag_up</th>\n",
       "      <th>flag_trusted_seller</th>\n",
       "      <th>flag_gmv_high</th>\n",
       "      <th>flag_gmv_low</th>\n",
       "      <th>...</th>\n",
       "      <th>tpv_approved</th>\n",
       "      <th>gmv_not_refund</th>\n",
       "      <th>count_orders</th>\n",
       "      <th>cashout</th>\n",
       "      <th>gmv_claims_seller</th>\n",
       "      <th>count_claims_seller</th>\n",
       "      <th>flag_on_final</th>\n",
       "      <th>activo</th>\n",
       "      <th>tpv_nulo</th>\n",
       "      <th>gmv_nulo</th>\n",
       "    </tr>\n",
       "  </thead>\n",
       "  <tbody>\n",
       "    <tr>\n",
       "      <th>0</th>\n",
       "      <td>201114848</td>\n",
       "      <td>2015-12-16</td>\n",
       "      <td>MCO</td>\n",
       "      <td>0</td>\n",
       "      <td>0.0</td>\n",
       "      <td>0.0</td>\n",
       "      <td>1.0</td>\n",
       "      <td>0.0</td>\n",
       "      <td>0.0</td>\n",
       "      <td>0.0</td>\n",
       "      <td>...</td>\n",
       "      <td>0.0000</td>\n",
       "      <td>0.00</td>\n",
       "      <td>0.0</td>\n",
       "      <td>0.00</td>\n",
       "      <td>0.00</td>\n",
       "      <td>0.0</td>\n",
       "      <td>0</td>\n",
       "      <td>0</td>\n",
       "      <td>1</td>\n",
       "      <td>1</td>\n",
       "    </tr>\n",
       "    <tr>\n",
       "      <th>1</th>\n",
       "      <td>79394233</td>\n",
       "      <td>2005-03-21</td>\n",
       "      <td>MLB</td>\n",
       "      <td>TOROFFROAD</td>\n",
       "      <td>1.0</td>\n",
       "      <td>1.0</td>\n",
       "      <td>1.0</td>\n",
       "      <td>1.0</td>\n",
       "      <td>1.0</td>\n",
       "      <td>0.0</td>\n",
       "      <td>...</td>\n",
       "      <td>104565.5113</td>\n",
       "      <td>149395.80</td>\n",
       "      <td>3147.0</td>\n",
       "      <td>99.64</td>\n",
       "      <td>17579.06</td>\n",
       "      <td>224.0</td>\n",
       "      <td>1</td>\n",
       "      <td>1</td>\n",
       "      <td>0</td>\n",
       "      <td>0</td>\n",
       "    </tr>\n",
       "    <tr>\n",
       "      <th>2</th>\n",
       "      <td>19524979</td>\n",
       "      <td>2007-06-09</td>\n",
       "      <td>MLB</td>\n",
       "      <td>SJ ELETROIMPORTS</td>\n",
       "      <td>1.0</td>\n",
       "      <td>0.0</td>\n",
       "      <td>1.0</td>\n",
       "      <td>1.0</td>\n",
       "      <td>1.0</td>\n",
       "      <td>0.0</td>\n",
       "      <td>...</td>\n",
       "      <td>67016.5128</td>\n",
       "      <td>102103.22</td>\n",
       "      <td>2389.0</td>\n",
       "      <td>1266.31</td>\n",
       "      <td>18153.92</td>\n",
       "      <td>231.0</td>\n",
       "      <td>1</td>\n",
       "      <td>1</td>\n",
       "      <td>0</td>\n",
       "      <td>0</td>\n",
       "    </tr>\n",
       "    <tr>\n",
       "      <th>3</th>\n",
       "      <td>171724486</td>\n",
       "      <td>2014-11-26</td>\n",
       "      <td>MLB</td>\n",
       "      <td>MICHELINI PARTS</td>\n",
       "      <td>1.0</td>\n",
       "      <td>1.0</td>\n",
       "      <td>1.0</td>\n",
       "      <td>1.0</td>\n",
       "      <td>1.0</td>\n",
       "      <td>0.0</td>\n",
       "      <td>...</td>\n",
       "      <td>89751.3989</td>\n",
       "      <td>133802.14</td>\n",
       "      <td>5694.0</td>\n",
       "      <td>373.52</td>\n",
       "      <td>13131.80</td>\n",
       "      <td>460.0</td>\n",
       "      <td>1</td>\n",
       "      <td>1</td>\n",
       "      <td>0</td>\n",
       "      <td>0</td>\n",
       "    </tr>\n",
       "    <tr>\n",
       "      <th>4</th>\n",
       "      <td>74937266</td>\n",
       "      <td>2004-08-03</td>\n",
       "      <td>MLM</td>\n",
       "      <td>SKP_MX</td>\n",
       "      <td>1.0</td>\n",
       "      <td>1.0</td>\n",
       "      <td>1.0</td>\n",
       "      <td>1.0</td>\n",
       "      <td>1.0</td>\n",
       "      <td>0.0</td>\n",
       "      <td>...</td>\n",
       "      <td>63727.4154</td>\n",
       "      <td>109327.71</td>\n",
       "      <td>2092.0</td>\n",
       "      <td>361.75</td>\n",
       "      <td>6433.09</td>\n",
       "      <td>125.0</td>\n",
       "      <td>1</td>\n",
       "      <td>1</td>\n",
       "      <td>0</td>\n",
       "      <td>0</td>\n",
       "    </tr>\n",
       "  </tbody>\n",
       "</table>\n",
       "<p>5 rows × 26 columns</p>\n",
       "</div>"
      ],
      "text/plain": [
       "   CUS_CUST_ID registration_date sit_site_id      cus_nickname  flag_ca  \\\n",
       "0    201114848        2015-12-16      MCO                    0      0.0   \n",
       "1     79394233        2005-03-21      MLB           TOROFFROAD      1.0   \n",
       "2     19524979        2007-06-09      MLB     SJ ELETROIMPORTS      1.0   \n",
       "3    171724486        2014-11-26      MLB      MICHELINI PARTS      1.0   \n",
       "4     74937266        2004-08-03      MLM               SKP_MX      1.0   \n",
       "\n",
       "   flag_mia  flag_up  flag_trusted_seller  flag_gmv_high  flag_gmv_low  ...  \\\n",
       "0       0.0      1.0                  0.0            0.0           0.0  ...   \n",
       "1       1.0      1.0                  1.0            1.0           0.0  ...   \n",
       "2       0.0      1.0                  1.0            1.0           0.0  ...   \n",
       "3       1.0      1.0                  1.0            1.0           0.0  ...   \n",
       "4       1.0      1.0                  1.0            1.0           0.0  ...   \n",
       "\n",
       "   tpv_approved  gmv_not_refund  count_orders  cashout  gmv_claims_seller  \\\n",
       "0        0.0000            0.00           0.0     0.00               0.00   \n",
       "1   104565.5113       149395.80        3147.0    99.64           17579.06   \n",
       "2    67016.5128       102103.22        2389.0  1266.31           18153.92   \n",
       "3    89751.3989       133802.14        5694.0   373.52           13131.80   \n",
       "4    63727.4154       109327.71        2092.0   361.75            6433.09   \n",
       "\n",
       "  count_claims_seller  flag_on_final  activo  tpv_nulo  gmv_nulo  \n",
       "0                 0.0              0       0         1         1  \n",
       "1               224.0              1       1         0         0  \n",
       "2               231.0              1       1         0         0  \n",
       "3               460.0              1       1         0         0  \n",
       "4               125.0              1       1         0         0  \n",
       "\n",
       "[5 rows x 26 columns]"
      ]
     },
     "execution_count": 43,
     "metadata": {},
     "output_type": "execute_result"
    }
   ],
   "source": [
    "df_final.head(5)"
   ]
  },
  {
   "cell_type": "markdown",
   "metadata": {},
   "source": [
    "## Clustering Data Preparation"
   ]
  },
  {
   "cell_type": "markdown",
   "metadata": {},
   "source": [
    "### Drop columns that are not required for the analyze"
   ]
  },
  {
   "cell_type": "code",
   "execution_count": 44,
   "metadata": {},
   "outputs": [],
   "source": [
    "df_cluster=df_final.drop(columns=['last_transaction','registration_date','cashout','count_claims_seller','count_orders','cus_nickname','gmv_claims_seller','gmv_not_refund','sit_site_id','tpv_approved'])"
   ]
  },
  {
   "cell_type": "code",
   "execution_count": 45,
   "metadata": {},
   "outputs": [
    {
     "data": {
      "text/plain": [
       "Index(['CUS_CUST_ID', 'flag_ca', 'flag_mia', 'flag_up', 'flag_trusted_seller',\n",
       "       'flag_gmv_high', 'flag_gmv_low', 'flag_tpv_high', 'flag_tpv_low',\n",
       "       'flag_repu_ml', 'flag_repu_glg', 'flag_repu_yor', 'flag_on_final',\n",
       "       'activo', 'tpv_nulo', 'gmv_nulo'],\n",
       "      dtype='object')"
      ]
     },
     "execution_count": 45,
     "metadata": {},
     "output_type": "execute_result"
    }
   ],
   "source": [
    "df_cluster.columns"
   ]
  },
  {
   "cell_type": "markdown",
   "metadata": {},
   "source": [
    "### Index the column CUS_CUST_ID"
   ]
  },
  {
   "cell_type": "code",
   "execution_count": 46,
   "metadata": {},
   "outputs": [],
   "source": [
    "df_cluster.set_index('CUS_CUST_ID', inplace = True)"
   ]
  },
  {
   "cell_type": "markdown",
   "metadata": {},
   "source": [
    "### Show the data for the clustering"
   ]
  },
  {
   "cell_type": "code",
   "execution_count": 47,
   "metadata": {},
   "outputs": [
    {
     "data": {
      "text/html": [
       "<div>\n",
       "<style scoped>\n",
       "    .dataframe tbody tr th:only-of-type {\n",
       "        vertical-align: middle;\n",
       "    }\n",
       "\n",
       "    .dataframe tbody tr th {\n",
       "        vertical-align: top;\n",
       "    }\n",
       "\n",
       "    .dataframe thead th {\n",
       "        text-align: right;\n",
       "    }\n",
       "</style>\n",
       "<table border=\"1\" class=\"dataframe\">\n",
       "  <thead>\n",
       "    <tr style=\"text-align: right;\">\n",
       "      <th></th>\n",
       "      <th>flag_ca</th>\n",
       "      <th>flag_mia</th>\n",
       "      <th>flag_up</th>\n",
       "      <th>flag_trusted_seller</th>\n",
       "      <th>flag_gmv_high</th>\n",
       "      <th>flag_gmv_low</th>\n",
       "      <th>flag_tpv_high</th>\n",
       "      <th>flag_tpv_low</th>\n",
       "      <th>flag_repu_ml</th>\n",
       "      <th>flag_repu_glg</th>\n",
       "      <th>flag_repu_yor</th>\n",
       "      <th>flag_on_final</th>\n",
       "      <th>activo</th>\n",
       "      <th>tpv_nulo</th>\n",
       "      <th>gmv_nulo</th>\n",
       "    </tr>\n",
       "    <tr>\n",
       "      <th>CUS_CUST_ID</th>\n",
       "      <th></th>\n",
       "      <th></th>\n",
       "      <th></th>\n",
       "      <th></th>\n",
       "      <th></th>\n",
       "      <th></th>\n",
       "      <th></th>\n",
       "      <th></th>\n",
       "      <th></th>\n",
       "      <th></th>\n",
       "      <th></th>\n",
       "      <th></th>\n",
       "      <th></th>\n",
       "      <th></th>\n",
       "      <th></th>\n",
       "    </tr>\n",
       "  </thead>\n",
       "  <tbody>\n",
       "    <tr>\n",
       "      <th>201114848</th>\n",
       "      <td>0.0</td>\n",
       "      <td>0.0</td>\n",
       "      <td>1.0</td>\n",
       "      <td>0.0</td>\n",
       "      <td>0.0</td>\n",
       "      <td>0.0</td>\n",
       "      <td>0.0</td>\n",
       "      <td>0.0</td>\n",
       "      <td>0.0</td>\n",
       "      <td>0.0</td>\n",
       "      <td>0.0</td>\n",
       "      <td>0</td>\n",
       "      <td>0</td>\n",
       "      <td>1</td>\n",
       "      <td>1</td>\n",
       "    </tr>\n",
       "    <tr>\n",
       "      <th>79394233</th>\n",
       "      <td>1.0</td>\n",
       "      <td>1.0</td>\n",
       "      <td>1.0</td>\n",
       "      <td>1.0</td>\n",
       "      <td>1.0</td>\n",
       "      <td>0.0</td>\n",
       "      <td>1.0</td>\n",
       "      <td>0.0</td>\n",
       "      <td>1.0</td>\n",
       "      <td>0.0</td>\n",
       "      <td>0.0</td>\n",
       "      <td>1</td>\n",
       "      <td>1</td>\n",
       "      <td>0</td>\n",
       "      <td>0</td>\n",
       "    </tr>\n",
       "    <tr>\n",
       "      <th>19524979</th>\n",
       "      <td>1.0</td>\n",
       "      <td>0.0</td>\n",
       "      <td>1.0</td>\n",
       "      <td>1.0</td>\n",
       "      <td>1.0</td>\n",
       "      <td>0.0</td>\n",
       "      <td>1.0</td>\n",
       "      <td>0.0</td>\n",
       "      <td>0.0</td>\n",
       "      <td>0.0</td>\n",
       "      <td>1.0</td>\n",
       "      <td>1</td>\n",
       "      <td>1</td>\n",
       "      <td>0</td>\n",
       "      <td>0</td>\n",
       "    </tr>\n",
       "    <tr>\n",
       "      <th>171724486</th>\n",
       "      <td>1.0</td>\n",
       "      <td>1.0</td>\n",
       "      <td>1.0</td>\n",
       "      <td>1.0</td>\n",
       "      <td>1.0</td>\n",
       "      <td>0.0</td>\n",
       "      <td>1.0</td>\n",
       "      <td>0.0</td>\n",
       "      <td>1.0</td>\n",
       "      <td>0.0</td>\n",
       "      <td>0.0</td>\n",
       "      <td>1</td>\n",
       "      <td>1</td>\n",
       "      <td>0</td>\n",
       "      <td>0</td>\n",
       "    </tr>\n",
       "    <tr>\n",
       "      <th>74937266</th>\n",
       "      <td>1.0</td>\n",
       "      <td>1.0</td>\n",
       "      <td>1.0</td>\n",
       "      <td>1.0</td>\n",
       "      <td>1.0</td>\n",
       "      <td>0.0</td>\n",
       "      <td>1.0</td>\n",
       "      <td>0.0</td>\n",
       "      <td>1.0</td>\n",
       "      <td>0.0</td>\n",
       "      <td>0.0</td>\n",
       "      <td>1</td>\n",
       "      <td>1</td>\n",
       "      <td>0</td>\n",
       "      <td>0</td>\n",
       "    </tr>\n",
       "  </tbody>\n",
       "</table>\n",
       "</div>"
      ],
      "text/plain": [
       "             flag_ca  flag_mia  flag_up  flag_trusted_seller  flag_gmv_high  \\\n",
       "CUS_CUST_ID                                                                   \n",
       "201114848        0.0       0.0      1.0                  0.0            0.0   \n",
       "79394233         1.0       1.0      1.0                  1.0            1.0   \n",
       "19524979         1.0       0.0      1.0                  1.0            1.0   \n",
       "171724486        1.0       1.0      1.0                  1.0            1.0   \n",
       "74937266         1.0       1.0      1.0                  1.0            1.0   \n",
       "\n",
       "             flag_gmv_low  flag_tpv_high  flag_tpv_low  flag_repu_ml  \\\n",
       "CUS_CUST_ID                                                            \n",
       "201114848             0.0            0.0           0.0           0.0   \n",
       "79394233              0.0            1.0           0.0           1.0   \n",
       "19524979              0.0            1.0           0.0           0.0   \n",
       "171724486             0.0            1.0           0.0           1.0   \n",
       "74937266              0.0            1.0           0.0           1.0   \n",
       "\n",
       "             flag_repu_glg  flag_repu_yor  flag_on_final  activo  tpv_nulo  \\\n",
       "CUS_CUST_ID                                                                  \n",
       "201114848              0.0            0.0              0       0         1   \n",
       "79394233               0.0            0.0              1       1         0   \n",
       "19524979               0.0            1.0              1       1         0   \n",
       "171724486              0.0            0.0              1       1         0   \n",
       "74937266               0.0            0.0              1       1         0   \n",
       "\n",
       "             gmv_nulo  \n",
       "CUS_CUST_ID            \n",
       "201114848           1  \n",
       "79394233            0  \n",
       "19524979            0  \n",
       "171724486           0  \n",
       "74937266            0  "
      ]
     },
     "execution_count": 47,
     "metadata": {},
     "output_type": "execute_result"
    }
   ],
   "source": [
    "df_cluster.head(5)"
   ]
  },
  {
   "cell_type": "markdown",
   "metadata": {},
   "source": [
    "## Clustering"
   ]
  },
  {
   "cell_type": "markdown",
   "metadata": {},
   "source": [
    "### Looking the amount of clusters"
   ]
  },
  {
   "cell_type": "code",
   "execution_count": 48,
   "metadata": {},
   "outputs": [
    {
     "name": "stdout",
     "output_type": "stream",
     "text": [
      "Requirement already satisfied: kmodes in /opt/anaconda3/lib/python3.8/site-packages (0.11.0)\n",
      "Requirement already satisfied: joblib>=0.11 in /opt/anaconda3/lib/python3.8/site-packages (from kmodes) (0.17.0)\n",
      "Requirement already satisfied: scipy>=0.13.3 in /opt/anaconda3/lib/python3.8/site-packages (from kmodes) (1.5.2)\n",
      "Requirement already satisfied: scikit-learn>=0.22.0 in /opt/anaconda3/lib/python3.8/site-packages (from kmodes) (0.23.2)\n",
      "Requirement already satisfied: numpy>=1.10.4 in /opt/anaconda3/lib/python3.8/site-packages (from kmodes) (1.21.0)\n",
      "Requirement already satisfied: threadpoolctl>=2.0.0 in /opt/anaconda3/lib/python3.8/site-packages (from scikit-learn>=0.22.0->kmodes) (2.1.0)\n",
      "Note: you may need to restart the kernel to use updated packages.\n"
     ]
    }
   ],
   "source": [
    "pip install kmodes"
   ]
  },
  {
   "cell_type": "code",
   "execution_count": 49,
   "metadata": {},
   "outputs": [],
   "source": [
    "from kmodes.kmodes import KModes"
   ]
  },
  {
   "cell_type": "code",
   "execution_count": 50,
   "metadata": {},
   "outputs": [
    {
     "data": {
      "text/plain": [
       "Text(0.5, 0, 'Cantidad de clusters')"
      ]
     },
     "execution_count": 50,
     "metadata": {},
     "output_type": "execute_result"
    },
    {
     "data": {
      "image/png": "[encoded data removed]",
      "text/plain": [
       "<Figure size 432x288 with 1 Axes>"
      ]
     },
     "metadata": {
      "needs_background": "light"
     },
     "output_type": "display_data"
    }
   ],
   "source": [
    "inercias = []\n",
    "for i in range(1, 20):\n",
    "    kmodes = KModes(n_clusters=i).fit(df_cluster)\n",
    "    inercias.append(kmodes.cost_)\n",
    "plt.plot(range(1, 20), inercias)\n",
    "plt.ylabel('Inercia')\n",
    "plt.xlabel('Cantidad de clusters')"
   ]
  },
  {
   "cell_type": "markdown",
   "metadata": {},
   "source": [
    " *Con el analisis del codo decidimos quedarnos con 3 clusters*"
   ]
  },
  {
   "cell_type": "markdown",
   "metadata": {},
   "source": [
    "### Create the clusters"
   ]
  },
  {
   "cell_type": "code",
   "execution_count": 51,
   "metadata": {},
   "outputs": [],
   "source": [
    "from sklearn.preprocessing import StandardScaler # data normalization\n",
    "from sklearn.cluster import KMeans # K-means algorithm"
   ]
  },
  {
   "cell_type": "code",
   "execution_count": 52,
   "metadata": {},
   "outputs": [
    {
     "name": "stdout",
     "output_type": "stream",
     "text": [
      "Cluster data samples :  [[-1.68974237 -1.54465946  1.22857221 -1.89271333 -1.14467504 -0.53805709\n",
      "  -1.49318694 -0.38751655 -1.37407209 -0.2635495  -0.35464211 -2.5958363\n",
      "  -2.23195312  2.14110447  1.94932596]\n",
      " [ 0.59180619  0.64739188  1.22857221  0.52834203  0.87361038 -0.53805709\n",
      "   0.66970851 -0.38751655  0.72776386 -0.2635495  -0.35464211  0.3852323\n",
      "   0.44803809 -0.46704867 -0.51299784]\n",
      " [ 0.59180619 -1.54465946  1.22857221  0.52834203  0.87361038 -0.53805709\n",
      "   0.66970851 -0.38751655 -1.37407209 -0.2635495   2.81974413  0.3852323\n",
      "   0.44803809 -0.46704867 -0.51299784]]\n"
     ]
    }
   ],
   "source": [
    "X = df_cluster.values\n",
    "X = np.nan_to_num(X)\n",
    "\n",
    "sc = StandardScaler()\n",
    "\n",
    "cluster_data = sc.fit_transform(X)\n",
    "print('Cluster data samples : ', cluster_data[:3])"
   ]
  },
  {
   "cell_type": "code",
   "execution_count": 53,
   "metadata": {},
   "outputs": [
    {
     "name": "stdout",
     "output_type": "stream",
     "text": [
      "[1 0 0 0 0 0 0 0 0 2 0 2 2 0 2 2 1 0 0 0 0 0 0 0 1 0 0 2 0 2 1 2 0 0 2 0 2\n",
      " 0 0 0 2 0 0 2 0 2 0 0 0 2 2 0 0 1 1 0 0 0 0 1 1 2 0 1 0 1 0 0 0 0 1 1 0 0\n",
      " 2 0 2 1 1 2 0 1 0 1 1 0 2 2 0 0 0 1 0 0 0 2 2 1 1 0]\n"
     ]
    }
   ],
   "source": [
    "clusters = 3\n",
    "model = KMeans(init = 'k-means++', \n",
    "               n_clusters = clusters, \n",
    "               n_init = 12)\n",
    "model.fit(X)\n",
    "\n",
    "labels = model.labels_\n",
    "print(labels[:100])"
   ]
  },
  {
   "cell_type": "markdown",
   "metadata": {},
   "source": [
    "### Assign the clusters to each CUS_CUST_ID"
   ]
  },
  {
   "cell_type": "code",
   "execution_count": 54,
   "metadata": {},
   "outputs": [],
   "source": [
    "df_cluster['cluster']=labels"
   ]
  },
  {
   "cell_type": "code",
   "execution_count": 55,
   "metadata": {},
   "outputs": [
    {
     "data": {
      "text/plain": [
       "(7483, 16)"
      ]
     },
     "execution_count": 55,
     "metadata": {},
     "output_type": "execute_result"
    }
   ],
   "source": [
    "df_cluster.shape"
   ]
  },
  {
   "cell_type": "code",
   "execution_count": 56,
   "metadata": {},
   "outputs": [],
   "source": [
    "df_cluster = df_cluster.reset_index()"
   ]
  },
  {
   "cell_type": "code",
   "execution_count": 57,
   "metadata": {},
   "outputs": [],
   "source": [
    "columns = ['CUS_CUST_ID','cluster']"
   ]
  },
  {
   "cell_type": "code",
   "execution_count": 58,
   "metadata": {},
   "outputs": [],
   "source": [
    "df_bis = df_cluster[columns]"
   ]
  },
  {
   "cell_type": "code",
   "execution_count": 59,
   "metadata": {},
   "outputs": [],
   "source": [
    "\n",
    "df_fin=pd.merge(left = df_final, right = df_bis,\n",
    "                  how = 'left',\n",
    "                  left_on='CUS_CUST_ID', right_on='CUS_CUST_ID')"
   ]
  },
  {
   "cell_type": "markdown",
   "metadata": {},
   "source": [
    "### Shows the DF Final with there clusters"
   ]
  },
  {
   "cell_type": "code",
   "execution_count": 60,
   "metadata": {},
   "outputs": [
    {
     "data": {
      "text/html": [
       "<div>\n",
       "<style scoped>\n",
       "    .dataframe tbody tr th:only-of-type {\n",
       "        vertical-align: middle;\n",
       "    }\n",
       "\n",
       "    .dataframe tbody tr th {\n",
       "        vertical-align: top;\n",
       "    }\n",
       "\n",
       "    .dataframe thead th {\n",
       "        text-align: right;\n",
       "    }\n",
       "</style>\n",
       "<table border=\"1\" class=\"dataframe\">\n",
       "  <thead>\n",
       "    <tr style=\"text-align: right;\">\n",
       "      <th></th>\n",
       "      <th>CUS_CUST_ID</th>\n",
       "      <th>registration_date</th>\n",
       "      <th>sit_site_id</th>\n",
       "      <th>cus_nickname</th>\n",
       "      <th>flag_ca</th>\n",
       "      <th>flag_mia</th>\n",
       "      <th>flag_up</th>\n",
       "      <th>flag_trusted_seller</th>\n",
       "      <th>flag_gmv_high</th>\n",
       "      <th>flag_gmv_low</th>\n",
       "      <th>...</th>\n",
       "      <th>gmv_not_refund</th>\n",
       "      <th>count_orders</th>\n",
       "      <th>cashout</th>\n",
       "      <th>gmv_claims_seller</th>\n",
       "      <th>count_claims_seller</th>\n",
       "      <th>flag_on_final</th>\n",
       "      <th>activo</th>\n",
       "      <th>tpv_nulo</th>\n",
       "      <th>gmv_nulo</th>\n",
       "      <th>cluster</th>\n",
       "    </tr>\n",
       "  </thead>\n",
       "  <tbody>\n",
       "    <tr>\n",
       "      <th>0</th>\n",
       "      <td>201114848</td>\n",
       "      <td>2015-12-16</td>\n",
       "      <td>MCO</td>\n",
       "      <td>0</td>\n",
       "      <td>0.0</td>\n",
       "      <td>0.0</td>\n",
       "      <td>1.0</td>\n",
       "      <td>0.0</td>\n",
       "      <td>0.0</td>\n",
       "      <td>0.0</td>\n",
       "      <td>...</td>\n",
       "      <td>0.00</td>\n",
       "      <td>0.0</td>\n",
       "      <td>0.00</td>\n",
       "      <td>0.00</td>\n",
       "      <td>0.0</td>\n",
       "      <td>0</td>\n",
       "      <td>0</td>\n",
       "      <td>1</td>\n",
       "      <td>1</td>\n",
       "      <td>1</td>\n",
       "    </tr>\n",
       "    <tr>\n",
       "      <th>1</th>\n",
       "      <td>79394233</td>\n",
       "      <td>2005-03-21</td>\n",
       "      <td>MLB</td>\n",
       "      <td>TOROFFROAD</td>\n",
       "      <td>1.0</td>\n",
       "      <td>1.0</td>\n",
       "      <td>1.0</td>\n",
       "      <td>1.0</td>\n",
       "      <td>1.0</td>\n",
       "      <td>0.0</td>\n",
       "      <td>...</td>\n",
       "      <td>149395.80</td>\n",
       "      <td>3147.0</td>\n",
       "      <td>99.64</td>\n",
       "      <td>17579.06</td>\n",
       "      <td>224.0</td>\n",
       "      <td>1</td>\n",
       "      <td>1</td>\n",
       "      <td>0</td>\n",
       "      <td>0</td>\n",
       "      <td>0</td>\n",
       "    </tr>\n",
       "    <tr>\n",
       "      <th>2</th>\n",
       "      <td>19524979</td>\n",
       "      <td>2007-06-09</td>\n",
       "      <td>MLB</td>\n",
       "      <td>SJ ELETROIMPORTS</td>\n",
       "      <td>1.0</td>\n",
       "      <td>0.0</td>\n",
       "      <td>1.0</td>\n",
       "      <td>1.0</td>\n",
       "      <td>1.0</td>\n",
       "      <td>0.0</td>\n",
       "      <td>...</td>\n",
       "      <td>102103.22</td>\n",
       "      <td>2389.0</td>\n",
       "      <td>1266.31</td>\n",
       "      <td>18153.92</td>\n",
       "      <td>231.0</td>\n",
       "      <td>1</td>\n",
       "      <td>1</td>\n",
       "      <td>0</td>\n",
       "      <td>0</td>\n",
       "      <td>0</td>\n",
       "    </tr>\n",
       "    <tr>\n",
       "      <th>3</th>\n",
       "      <td>171724486</td>\n",
       "      <td>2014-11-26</td>\n",
       "      <td>MLB</td>\n",
       "      <td>MICHELINI PARTS</td>\n",
       "      <td>1.0</td>\n",
       "      <td>1.0</td>\n",
       "      <td>1.0</td>\n",
       "      <td>1.0</td>\n",
       "      <td>1.0</td>\n",
       "      <td>0.0</td>\n",
       "      <td>...</td>\n",
       "      <td>133802.14</td>\n",
       "      <td>5694.0</td>\n",
       "      <td>373.52</td>\n",
       "      <td>13131.80</td>\n",
       "      <td>460.0</td>\n",
       "      <td>1</td>\n",
       "      <td>1</td>\n",
       "      <td>0</td>\n",
       "      <td>0</td>\n",
       "      <td>0</td>\n",
       "    </tr>\n",
       "    <tr>\n",
       "      <th>4</th>\n",
       "      <td>74937266</td>\n",
       "      <td>2004-08-03</td>\n",
       "      <td>MLM</td>\n",
       "      <td>SKP_MX</td>\n",
       "      <td>1.0</td>\n",
       "      <td>1.0</td>\n",
       "      <td>1.0</td>\n",
       "      <td>1.0</td>\n",
       "      <td>1.0</td>\n",
       "      <td>0.0</td>\n",
       "      <td>...</td>\n",
       "      <td>109327.71</td>\n",
       "      <td>2092.0</td>\n",
       "      <td>361.75</td>\n",
       "      <td>6433.09</td>\n",
       "      <td>125.0</td>\n",
       "      <td>1</td>\n",
       "      <td>1</td>\n",
       "      <td>0</td>\n",
       "      <td>0</td>\n",
       "      <td>0</td>\n",
       "    </tr>\n",
       "  </tbody>\n",
       "</table>\n",
       "<p>5 rows × 27 columns</p>\n",
       "</div>"
      ],
      "text/plain": [
       "   CUS_CUST_ID registration_date sit_site_id      cus_nickname  flag_ca  \\\n",
       "0    201114848        2015-12-16      MCO                    0      0.0   \n",
       "1     79394233        2005-03-21      MLB           TOROFFROAD      1.0   \n",
       "2     19524979        2007-06-09      MLB     SJ ELETROIMPORTS      1.0   \n",
       "3    171724486        2014-11-26      MLB      MICHELINI PARTS      1.0   \n",
       "4     74937266        2004-08-03      MLM               SKP_MX      1.0   \n",
       "\n",
       "   flag_mia  flag_up  flag_trusted_seller  flag_gmv_high  flag_gmv_low  ...  \\\n",
       "0       0.0      1.0                  0.0            0.0           0.0  ...   \n",
       "1       1.0      1.0                  1.0            1.0           0.0  ...   \n",
       "2       0.0      1.0                  1.0            1.0           0.0  ...   \n",
       "3       1.0      1.0                  1.0            1.0           0.0  ...   \n",
       "4       1.0      1.0                  1.0            1.0           0.0  ...   \n",
       "\n",
       "   gmv_not_refund  count_orders  cashout  gmv_claims_seller  \\\n",
       "0            0.00           0.0     0.00               0.00   \n",
       "1       149395.80        3147.0    99.64           17579.06   \n",
       "2       102103.22        2389.0  1266.31           18153.92   \n",
       "3       133802.14        5694.0   373.52           13131.80   \n",
       "4       109327.71        2092.0   361.75            6433.09   \n",
       "\n",
       "   count_claims_seller flag_on_final  activo  tpv_nulo  gmv_nulo  cluster  \n",
       "0                  0.0             0       0         1         1        1  \n",
       "1                224.0             1       1         0         0        0  \n",
       "2                231.0             1       1         0         0        0  \n",
       "3                460.0             1       1         0         0        0  \n",
       "4                125.0             1       1         0         0        0  \n",
       "\n",
       "[5 rows x 27 columns]"
      ]
     },
     "execution_count": 60,
     "metadata": {},
     "output_type": "execute_result"
    }
   ],
   "source": [
    "df_fin.head(5)"
   ]
  },
  {
   "cell_type": "code",
   "execution_count": 61,
   "metadata": {},
   "outputs": [
    {
     "data": {
      "text/plain": [
       "Index(['CUS_CUST_ID', 'registration_date', 'sit_site_id', 'cus_nickname',\n",
       "       'flag_ca', 'flag_mia', 'flag_up', 'flag_trusted_seller',\n",
       "       'flag_gmv_high', 'flag_gmv_low', 'flag_tpv_high', 'flag_tpv_low',\n",
       "       'flag_repu_ml', 'flag_repu_glg', 'flag_repu_yor', 'last_transaction',\n",
       "       'tpv_approved', 'gmv_not_refund', 'count_orders', 'cashout',\n",
       "       'gmv_claims_seller', 'count_claims_seller', 'flag_on_final', 'activo',\n",
       "       'tpv_nulo', 'gmv_nulo', 'cluster'],\n",
       "      dtype='object')"
      ]
     },
     "execution_count": 61,
     "metadata": {},
     "output_type": "execute_result"
    }
   ],
   "source": [
    "df_fin.columns"
   ]
  },
  {
   "cell_type": "markdown",
   "metadata": {},
   "source": [
    "### Graph the centroids"
   ]
  },
  {
   "cell_type": "code",
   "execution_count": 62,
   "metadata": {},
   "outputs": [],
   "source": [
    "centers = np.array(model.cluster_centers_)"
   ]
  },
  {
   "cell_type": "code",
   "execution_count": 63,
   "metadata": {
    "scrolled": true
   },
   "outputs": [
    {
     "data": {
      "text/plain": [
       "<matplotlib.collections.PathCollection at 0x7ff82e4303a0>"
      ]
     },
     "execution_count": 63,
     "metadata": {},
     "output_type": "execute_result"
    },
    {
     "data": {
      "image/png": "[encoded data removed]",
      "text/plain": [
       "<Figure size 432x288 with 1 Axes>"
      ]
     },
     "metadata": {
      "needs_background": "light"
     },
     "output_type": "display_data"
    }
   ],
   "source": [
    "plt.scatter(centers[:,0], centers[:,1], marker=\"x\", color='r')"
   ]
  },
  {
   "cell_type": "code",
   "execution_count": 64,
   "metadata": {},
   "outputs": [
    {
     "data": {
      "text/plain": [
       "array([1, 0, 0, ..., 0, 0, 0], dtype=int32)"
      ]
     },
     "execution_count": 64,
     "metadata": {},
     "output_type": "execute_result"
    }
   ],
   "source": [
    "model.labels_"
   ]
  },
  {
   "cell_type": "code",
   "execution_count": 65,
   "metadata": {},
   "outputs": [],
   "source": [
    "df_fin.set_index('CUS_CUST_ID', inplace = True)"
   ]
  },
  {
   "cell_type": "code",
   "execution_count": 66,
   "metadata": {},
   "outputs": [
    {
     "name": "stdout",
     "output_type": "stream",
     "text": [
      "[[ 9.59010601e-01  8.82921084e-01  5.35453475e-01  9.92932862e-01\n",
      "   9.99057715e-01  7.49400542e-16  9.91048292e-01  8.95170789e-03\n",
      "   9.49116608e-01  1.71967020e-02  3.29799764e-02  1.00000000e+00\n",
      "   1.00000000e+00  2.33146835e-15  9.42285041e-04]\n",
      " [ 3.17859446e-01  2.39845261e-01  1.31528046e-01  1.18633140e-01\n",
      "  -8.88178420e-16  1.09606705e-02  8.76853643e-02  6.18955513e-02\n",
      "   7.73694391e-03  7.80141844e-02  1.19922631e-01  3.76531270e-01\n",
      "   1.95357834e-01  8.50419084e-01  9.89039329e-01]\n",
      " [ 5.79727327e-01  6.83461766e-01  2.99347955e-01  8.60106698e-01\n",
      "   1.77830468e-03  9.85773563e-01  4.87848251e-01  4.99703616e-01\n",
      "   5.04445762e-01  1.73088322e-01  3.02311796e-01  1.00000000e+00\n",
      "   9.98221695e-01  1.24481328e-02  1.24481328e-02]]\n"
     ]
    }
   ],
   "source": [
    "print(model.cluster_centers_)"
   ]
  },
  {
   "cell_type": "markdown",
   "metadata": {},
   "source": [
    "## Graph The Clusters"
   ]
  },
  {
   "cell_type": "markdown",
   "metadata": {},
   "source": [
    "### gmv_not_refund vs tpv_approved"
   ]
  },
  {
   "cell_type": "code",
   "execution_count": 67,
   "metadata": {},
   "outputs": [
    {
     "data": {
      "text/plain": [
       "<seaborn.axisgrid.FacetGrid at 0x7ff82e43eb80>"
      ]
     },
     "execution_count": 67,
     "metadata": {},
     "output_type": "execute_result"
    },
    {
     "data": {
      "image/png": "[encoded data removed]",
      "text/plain": [
       "<Figure size 477.725x432 with 1 Axes>"
      ]
     },
     "metadata": {},
     "output_type": "display_data"
    }
   ],
   "source": [
    "sns.set_theme(style=\"white\")\n",
    "# Plot miles per gallon against horsepower with other semantics\n",
    "sns.relplot(x=\"gmv_not_refund\", y=\"tpv_approved\", hue=\"cluster\",\n",
    "            sizes=(40, 400), alpha=.5, palette=\"muted\",\n",
    "            height=6, data=df_fin)"
   ]
  },
  {
   "cell_type": "markdown",
   "metadata": {},
   "source": [
    "### count_orders vs count_claims_seller"
   ]
  },
  {
   "cell_type": "code",
   "execution_count": 68,
   "metadata": {},
   "outputs": [
    {
     "data": {
      "text/plain": [
       "<seaborn.axisgrid.FacetGrid at 0x7ff82f487310>"
      ]
     },
     "execution_count": 68,
     "metadata": {},
     "output_type": "execute_result"
    },
    {
     "data": {
      "image/png": "[encoded data removed]",
      "text/plain": [
       "<Figure size 477.725x432 with 1 Axes>"
      ]
     },
     "metadata": {},
     "output_type": "display_data"
    }
   ],
   "source": [
    "import seaborn as sns\n",
    "sns.set_theme(style=\"white\")\n",
    "# Plot miles per gallon against horsepower with other semantics\n",
    "sns.relplot(x=\"count_orders\", y=\"count_claims_seller\", hue=\"cluster\",\n",
    "            sizes=(40, 400), alpha=.5, palette=\"muted\",\n",
    "            height=6, data=df_fin)"
   ]
  },
  {
   "cell_type": "markdown",
   "metadata": {},
   "source": [
    "### count_orders vs tpv_approved"
   ]
  },
  {
   "cell_type": "code",
   "execution_count": 69,
   "metadata": {},
   "outputs": [
    {
     "data": {
      "text/plain": [
       "<seaborn.axisgrid.FacetGrid at 0x7ff82ed2ff40>"
      ]
     },
     "execution_count": 69,
     "metadata": {},
     "output_type": "execute_result"
    },
    {
     "data": {
      "image/png": "[encoded data removed]",
      "text/plain": [
       "<Figure size 477.725x432 with 1 Axes>"
      ]
     },
     "metadata": {},
     "output_type": "display_data"
    }
   ],
   "source": [
    "sns.set_theme(style=\"white\")\n",
    "# Plot miles per gallon against horsepower with other semantics\n",
    "sns.relplot(x=\"count_orders\", y=\"tpv_approved\", hue=\"cluster\",\n",
    "            sizes=(40, 400), alpha=.5, palette=\"muted\",\n",
    "            height=6, data=df_fin)"
   ]
  },
  {
   "cell_type": "markdown",
   "metadata": {},
   "source": [
    "### flag_on_final vs tpv_approved"
   ]
  },
  {
   "cell_type": "code",
   "execution_count": 70,
   "metadata": {},
   "outputs": [
    {
     "data": {
      "text/plain": [
       "<seaborn.axisgrid.FacetGrid at 0x7ff82efff880>"
      ]
     },
     "execution_count": 70,
     "metadata": {},
     "output_type": "execute_result"
    },
    {
     "data": {
      "image/png": "[encoded data removed]",
      "text/plain": [
       "<Figure size 477.725x432 with 1 Axes>"
      ]
     },
     "metadata": {},
     "output_type": "display_data"
    }
   ],
   "source": [
    "import seaborn as sns\n",
    "sns.set_theme(style=\"white\")\n",
    "# Plot miles per gallon against horsepower with other semantics\n",
    "sns.relplot(x=\"flag_on_final\", y=\"tpv_approved\", hue=\"cluster\",\n",
    "            sizes=(40, 400), alpha=.5, palette=\"muted\",\n",
    "            height=6, data=df_fin)"
   ]
  },
  {
   "cell_type": "markdown",
   "metadata": {},
   "source": [
    "### count_orders vs count_claims_seller vs flag_on_final"
   ]
  },
  {
   "cell_type": "code",
   "execution_count": 72,
   "metadata": {},
   "outputs": [
    {
     "data": {
      "text/plain": [
       "<mpl_toolkits.mplot3d.art3d.Path3DCollection at 0x7ff82e30b490>"
      ]
     },
     "execution_count": 72,
     "metadata": {},
     "output_type": "execute_result"
    },
    {
     "data": {
      "image/png": "[encoded data removed]",
      "text/plain": [
       "<Figure size 1152x864 with 1 Axes>"
      ]
     },
     "metadata": {},
     "output_type": "display_data"
    }
   ],
   "source": [
    "import matplotlib.pyplot as plt\n",
    "import pandas as pd\n",
    "import seaborn as sns\n",
    "from mpl_toolkits.mplot3d import Axes3D\n",
    "\n",
    "sns.set(style = \"darkgrid\")\n",
    "\n",
    "fig = plt.figure(figsize=(16,12))\n",
    "ax = fig.add_subplot(111, projection = '3d')\n",
    "\n",
    "x = df_fin['count_orders']\n",
    "y = df_fin['count_claims_seller']\n",
    "z = df_fin['flag_on_final']\n",
    "\n",
    "ax.set_xlabel(\"count_orders\")\n",
    "ax.set_ylabel(\"count_claims_seller\")\n",
    "ax.set_zlabel(\"flag_on_final\")\n",
    "ax.scatter(x, y, z,marker = 'o', c=df_fin[\"cluster\"],s = 40)"
   ]
  },
  {
   "cell_type": "markdown",
   "metadata": {},
   "source": [
    "## Analysis The Clusters"
   ]
  },
  {
   "cell_type": "code",
   "execution_count": 73,
   "metadata": {},
   "outputs": [],
   "source": [
    "df_0=df_fin[df_fin['cluster']==0]\n",
    "df_1=df_fin[df_fin['cluster']==1]\n",
    "df_2=df_fin[df_fin['cluster']==2]"
   ]
  },
  {
   "cell_type": "code",
   "execution_count": 74,
   "metadata": {},
   "outputs": [
    {
     "name": "stdout",
     "output_type": "stream",
     "text": [
      "<class 'pandas.core.frame.DataFrame'>\n",
      "Int64Index: 1550 entries, 201114848 to 171271537\n",
      "Data columns (total 26 columns):\n",
      " #   Column               Non-Null Count  Dtype  \n",
      "---  ------               --------------  -----  \n",
      " 0   registration_date    1550 non-null   object \n",
      " 1   sit_site_id          1550 non-null   object \n",
      " 2   cus_nickname         1550 non-null   object \n",
      " 3   flag_ca              1550 non-null   float64\n",
      " 4   flag_mia             1550 non-null   float64\n",
      " 5   flag_up              1550 non-null   float64\n",
      " 6   flag_trusted_seller  1550 non-null   float64\n",
      " 7   flag_gmv_high        1550 non-null   float64\n",
      " 8   flag_gmv_low         1550 non-null   float64\n",
      " 9   flag_tpv_high        1550 non-null   float64\n",
      " 10  flag_tpv_low         1550 non-null   float64\n",
      " 11  flag_repu_ml         1550 non-null   float64\n",
      " 12  flag_repu_glg        1550 non-null   float64\n",
      " 13  flag_repu_yor        1550 non-null   float64\n",
      " 14  last_transaction     1550 non-null   object \n",
      " 15  tpv_approved         1550 non-null   float64\n",
      " 16  gmv_not_refund       1550 non-null   float64\n",
      " 17  count_orders         1550 non-null   float64\n",
      " 18  cashout              1550 non-null   float64\n",
      " 19  gmv_claims_seller    1550 non-null   float64\n",
      " 20  count_claims_seller  1550 non-null   float64\n",
      " 21  flag_on_final        1550 non-null   int64  \n",
      " 22  activo               1550 non-null   int64  \n",
      " 23  tpv_nulo             1550 non-null   int64  \n",
      " 24  gmv_nulo             1550 non-null   int64  \n",
      " 25  cluster              1550 non-null   int32  \n",
      "dtypes: float64(17), int32(1), int64(4), object(4)\n",
      "memory usage: 320.9+ KB\n"
     ]
    }
   ],
   "source": [
    "df_1.info()"
   ]
  },
  {
   "cell_type": "code",
   "execution_count": 77,
   "metadata": {},
   "outputs": [],
   "source": [
    "df_1.tpv_approved = df_1['tpv_approved'].astype(int)\n",
    "df_1.gmv_not_refund = df_1['gmv_not_refund'].astype(int)\n",
    "df_1.cashout = df_1['cashout'].astype(int)\n",
    "df_1.gmv_not_refund = df_1['gmv_not_refund'].astype(int)\n"
   ]
  },
  {
   "cell_type": "code",
   "execution_count": 78,
   "metadata": {},
   "outputs": [],
   "source": [
    "df_1.to_csv('cluster1.csv')"
   ]
  },
  {
   "cell_type": "markdown",
   "metadata": {},
   "source": [
    "### Cluster size"
   ]
  },
  {
   "cell_type": "code",
   "execution_count": 79,
   "metadata": {},
   "outputs": [
    {
     "data": {
      "text/plain": [
       "(4245, 26)"
      ]
     },
     "execution_count": 79,
     "metadata": {},
     "output_type": "execute_result"
    }
   ],
   "source": [
    "df_0.shape"
   ]
  },
  {
   "cell_type": "code",
   "execution_count": 80,
   "metadata": {},
   "outputs": [
    {
     "data": {
      "text/plain": [
       "(1550, 26)"
      ]
     },
     "execution_count": 80,
     "metadata": {},
     "output_type": "execute_result"
    }
   ],
   "source": [
    "df_1.shape"
   ]
  },
  {
   "cell_type": "code",
   "execution_count": 81,
   "metadata": {},
   "outputs": [
    {
     "data": {
      "text/plain": [
       "(1688, 26)"
      ]
     },
     "execution_count": 81,
     "metadata": {},
     "output_type": "execute_result"
    }
   ],
   "source": [
    "df_2.shape"
   ]
  },
  {
   "cell_type": "markdown",
   "metadata": {},
   "source": [
    "### Distribution users of the ON"
   ]
  },
  {
   "cell_type": "code",
   "execution_count": 82,
   "metadata": {
    "scrolled": true
   },
   "outputs": [
    {
     "data": {
      "text/plain": [
       "1    6516\n",
       "0     967\n",
       "Name: flag_on_final, dtype: int64"
      ]
     },
     "execution_count": 82,
     "metadata": {},
     "output_type": "execute_result"
    }
   ],
   "source": [
    "df_fin['flag_on_final'].value_counts()"
   ]
  },
  {
   "cell_type": "code",
   "execution_count": 83,
   "metadata": {},
   "outputs": [
    {
     "data": {
      "text/html": [
       "<div>\n",
       "<style scoped>\n",
       "    .dataframe tbody tr th:only-of-type {\n",
       "        vertical-align: middle;\n",
       "    }\n",
       "\n",
       "    .dataframe tbody tr th {\n",
       "        vertical-align: top;\n",
       "    }\n",
       "\n",
       "    .dataframe thead th {\n",
       "        text-align: right;\n",
       "    }\n",
       "</style>\n",
       "<table border=\"1\" class=\"dataframe\">\n",
       "  <thead>\n",
       "    <tr style=\"text-align: right;\">\n",
       "      <th>flag_on_final</th>\n",
       "      <th>0</th>\n",
       "      <th>1</th>\n",
       "    </tr>\n",
       "    <tr>\n",
       "      <th>cluster</th>\n",
       "      <th></th>\n",
       "      <th></th>\n",
       "    </tr>\n",
       "  </thead>\n",
       "  <tbody>\n",
       "    <tr>\n",
       "      <th>0</th>\n",
       "      <td>0.0</td>\n",
       "      <td>4245.0</td>\n",
       "    </tr>\n",
       "    <tr>\n",
       "      <th>1</th>\n",
       "      <td>967.0</td>\n",
       "      <td>583.0</td>\n",
       "    </tr>\n",
       "    <tr>\n",
       "      <th>2</th>\n",
       "      <td>0.0</td>\n",
       "      <td>1688.0</td>\n",
       "    </tr>\n",
       "  </tbody>\n",
       "</table>\n",
       "</div>"
      ],
      "text/plain": [
       "flag_on_final      0       1\n",
       "cluster                     \n",
       "0                0.0  4245.0\n",
       "1              967.0   583.0\n",
       "2                0.0  1688.0"
      ]
     },
     "execution_count": 83,
     "metadata": {},
     "output_type": "execute_result"
    }
   ],
   "source": [
    "Activos_ON = df_fin.groupby(['cluster','flag_on_final']).size()\n",
    "Activos_ON = Activos_ON.reset_index()\n",
    "Activos_ON = pd.pivot_table(Activos_ON,columns='flag_on_final',index='cluster',values=0)\n",
    "Activos_ON.fillna(0, inplace=True)\n",
    "Activos_ON"
   ]
  },
  {
   "cell_type": "markdown",
   "metadata": {},
   "source": [
    " *Tenemos aproximadamente 6500 usuarios que operan en el ON.*\n",
    " *En el cluster 0 y 2 tenemos users unicamente del ON mientras que en el cluster 1 tenemos un mix.*"
   ]
  },
  {
   "cell_type": "markdown",
   "metadata": {},
   "source": [
    "### Distribution active users"
   ]
  },
  {
   "cell_type": "code",
   "execution_count": 84,
   "metadata": {},
   "outputs": [
    {
     "data": {
      "text/plain": [
       "1    6232\n",
       "0    1251\n",
       "Name: activo, dtype: int64"
      ]
     },
     "execution_count": 84,
     "metadata": {},
     "output_type": "execute_result"
    }
   ],
   "source": [
    "df_fin['activo'].value_counts()"
   ]
  },
  {
   "cell_type": "code",
   "execution_count": 85,
   "metadata": {},
   "outputs": [
    {
     "data": {
      "text/html": [
       "<div>\n",
       "<style scoped>\n",
       "    .dataframe tbody tr th:only-of-type {\n",
       "        vertical-align: middle;\n",
       "    }\n",
       "\n",
       "    .dataframe tbody tr th {\n",
       "        vertical-align: top;\n",
       "    }\n",
       "\n",
       "    .dataframe thead th {\n",
       "        text-align: right;\n",
       "    }\n",
       "</style>\n",
       "<table border=\"1\" class=\"dataframe\">\n",
       "  <thead>\n",
       "    <tr style=\"text-align: right;\">\n",
       "      <th>activo</th>\n",
       "      <th>0</th>\n",
       "      <th>1</th>\n",
       "    </tr>\n",
       "    <tr>\n",
       "      <th>cluster</th>\n",
       "      <th></th>\n",
       "      <th></th>\n",
       "    </tr>\n",
       "  </thead>\n",
       "  <tbody>\n",
       "    <tr>\n",
       "      <th>0</th>\n",
       "      <td>0.0</td>\n",
       "      <td>4245.0</td>\n",
       "    </tr>\n",
       "    <tr>\n",
       "      <th>1</th>\n",
       "      <td>1247.0</td>\n",
       "      <td>303.0</td>\n",
       "    </tr>\n",
       "    <tr>\n",
       "      <th>2</th>\n",
       "      <td>4.0</td>\n",
       "      <td>1684.0</td>\n",
       "    </tr>\n",
       "  </tbody>\n",
       "</table>\n",
       "</div>"
      ],
      "text/plain": [
       "activo        0       1\n",
       "cluster                \n",
       "0           0.0  4245.0\n",
       "1        1247.0   303.0\n",
       "2           4.0  1684.0"
      ]
     },
     "execution_count": 85,
     "metadata": {},
     "output_type": "execute_result"
    }
   ],
   "source": [
    "Activos = df_fin.groupby(['cluster','activo']).size()\n",
    "Activos = Activos.reset_index()\n",
    "Activos = pd.pivot_table(Activos,columns='activo',index='cluster',values=0)\n",
    "Activos.fillna(0, inplace=True)\n",
    "Activos"
   ]
  },
  {
   "cell_type": "markdown",
   "metadata": {},
   "source": [
    " *Tenemos 1251 usuarios sin actividad en los ultimos 90 días.*\n",
    " *Con 1247 users, en el cluster 2 se encuentran el 99% de los usuarios sin actividad. En el cluster 1 tenemos 4 users y en el 2 ninguno.*"
   ]
  },
  {
   "cell_type": "markdown",
   "metadata": {},
   "source": [
    "### Distribution users with CA"
   ]
  },
  {
   "cell_type": "code",
   "execution_count": 86,
   "metadata": {},
   "outputs": [
    {
     "data": {
      "text/plain": [
       "1.0    5542\n",
       "0.0    1941\n",
       "Name: flag_ca, dtype: int64"
      ]
     },
     "execution_count": 86,
     "metadata": {},
     "output_type": "execute_result"
    }
   ],
   "source": [
    "df_fin['flag_ca'].value_counts()"
   ]
  },
  {
   "cell_type": "code",
   "execution_count": 87,
   "metadata": {},
   "outputs": [
    {
     "data": {
      "text/html": [
       "<div>\n",
       "<style scoped>\n",
       "    .dataframe tbody tr th:only-of-type {\n",
       "        vertical-align: middle;\n",
       "    }\n",
       "\n",
       "    .dataframe tbody tr th {\n",
       "        vertical-align: top;\n",
       "    }\n",
       "\n",
       "    .dataframe thead th {\n",
       "        text-align: right;\n",
       "    }\n",
       "</style>\n",
       "<table border=\"1\" class=\"dataframe\">\n",
       "  <thead>\n",
       "    <tr style=\"text-align: right;\">\n",
       "      <th>flag_ca</th>\n",
       "      <th>0.0</th>\n",
       "      <th>1.0</th>\n",
       "    </tr>\n",
       "    <tr>\n",
       "      <th>cluster</th>\n",
       "      <th></th>\n",
       "      <th></th>\n",
       "    </tr>\n",
       "  </thead>\n",
       "  <tbody>\n",
       "    <tr>\n",
       "      <th>0</th>\n",
       "      <td>174</td>\n",
       "      <td>4071</td>\n",
       "    </tr>\n",
       "    <tr>\n",
       "      <th>1</th>\n",
       "      <td>1057</td>\n",
       "      <td>493</td>\n",
       "    </tr>\n",
       "    <tr>\n",
       "      <th>2</th>\n",
       "      <td>710</td>\n",
       "      <td>978</td>\n",
       "    </tr>\n",
       "  </tbody>\n",
       "</table>\n",
       "</div>"
      ],
      "text/plain": [
       "flag_ca   0.0   1.0\n",
       "cluster            \n",
       "0         174  4071\n",
       "1        1057   493\n",
       "2         710   978"
      ]
     },
     "execution_count": 87,
     "metadata": {},
     "output_type": "execute_result"
    }
   ],
   "source": [
    "CA = df_fin.groupby(['cluster','flag_ca']).size()\n",
    "CA = CA.reset_index()\n",
    "CA = pd.pivot_table(CA,columns='flag_ca',index='cluster',values=0)\n",
    "CA.fillna(0, inplace=True)\n",
    "CA"
   ]
  },
  {
   "cell_type": "markdown",
   "metadata": {},
   "source": [
    " *Tenemos aproximadamente 5500 usuarios con cartera asesorada en WL*\n",
    " *Con 4071 users, en el cluster 2 se encuentra el 73% de los usuarios con CA.*"
   ]
  },
  {
   "cell_type": "markdown",
   "metadata": {},
   "source": [
    "### Distribution users with credit"
   ]
  },
  {
   "cell_type": "code",
   "execution_count": 88,
   "metadata": {},
   "outputs": [
    {
     "data": {
      "text/plain": [
       "1.0    5273\n",
       "0.0    2210\n",
       "Name: flag_mia, dtype: int64"
      ]
     },
     "execution_count": 88,
     "metadata": {},
     "output_type": "execute_result"
    }
   ],
   "source": [
    "df_fin['flag_mia'].value_counts()"
   ]
  },
  {
   "cell_type": "code",
   "execution_count": 89,
   "metadata": {},
   "outputs": [
    {
     "data": {
      "text/html": [
       "<div>\n",
       "<style scoped>\n",
       "    .dataframe tbody tr th:only-of-type {\n",
       "        vertical-align: middle;\n",
       "    }\n",
       "\n",
       "    .dataframe tbody tr th {\n",
       "        vertical-align: top;\n",
       "    }\n",
       "\n",
       "    .dataframe thead th {\n",
       "        text-align: right;\n",
       "    }\n",
       "</style>\n",
       "<table border=\"1\" class=\"dataframe\">\n",
       "  <thead>\n",
       "    <tr style=\"text-align: right;\">\n",
       "      <th>flag_mia</th>\n",
       "      <th>0.0</th>\n",
       "      <th>1.0</th>\n",
       "    </tr>\n",
       "    <tr>\n",
       "      <th>cluster</th>\n",
       "      <th></th>\n",
       "      <th></th>\n",
       "    </tr>\n",
       "  </thead>\n",
       "  <tbody>\n",
       "    <tr>\n",
       "      <th>0</th>\n",
       "      <td>497</td>\n",
       "      <td>3748</td>\n",
       "    </tr>\n",
       "    <tr>\n",
       "      <th>1</th>\n",
       "      <td>1178</td>\n",
       "      <td>372</td>\n",
       "    </tr>\n",
       "    <tr>\n",
       "      <th>2</th>\n",
       "      <td>535</td>\n",
       "      <td>1153</td>\n",
       "    </tr>\n",
       "  </tbody>\n",
       "</table>\n",
       "</div>"
      ],
      "text/plain": [
       "flag_mia   0.0   1.0\n",
       "cluster             \n",
       "0          497  3748\n",
       "1         1178   372\n",
       "2          535  1153"
      ]
     },
     "execution_count": 89,
     "metadata": {},
     "output_type": "execute_result"
    }
   ],
   "source": [
    "Adelantos = df_fin.groupby(['cluster','flag_mia']).size()\n",
    "Adelantos = Adelantos.reset_index()\n",
    "Adelantos = pd.pivot_table(Adelantos,columns='flag_mia',index='cluster',values=0)\n",
    "Adelantos.fillna(0, inplace=True)\n",
    "Adelantos"
   ]
  },
  {
   "cell_type": "markdown",
   "metadata": {},
   "source": [
    " *Tenemos aproximadamente 5300 usuarios con adelantos activoss en WL*\n",
    " *Con 3748 users, en el cluster 2 se encuentra el 71% de los usuarios con adelantos. El resto se distribuye en partes similares dentro de los otros dos clusters*"
   ]
  },
  {
   "cell_type": "markdown",
   "metadata": {},
   "source": [
    "### Distribution users with UP tag"
   ]
  },
  {
   "cell_type": "code",
   "execution_count": 90,
   "metadata": {},
   "outputs": [
    {
     "data": {
      "text/plain": [
       "0.0    4501\n",
       "1.0    2982\n",
       "Name: flag_up, dtype: int64"
      ]
     },
     "execution_count": 90,
     "metadata": {},
     "output_type": "execute_result"
    }
   ],
   "source": [
    "df_fin['flag_up'].value_counts()"
   ]
  },
  {
   "cell_type": "code",
   "execution_count": 91,
   "metadata": {},
   "outputs": [
    {
     "data": {
      "text/html": [
       "<div>\n",
       "<style scoped>\n",
       "    .dataframe tbody tr th:only-of-type {\n",
       "        vertical-align: middle;\n",
       "    }\n",
       "\n",
       "    .dataframe tbody tr th {\n",
       "        vertical-align: top;\n",
       "    }\n",
       "\n",
       "    .dataframe thead th {\n",
       "        text-align: right;\n",
       "    }\n",
       "</style>\n",
       "<table border=\"1\" class=\"dataframe\">\n",
       "  <thead>\n",
       "    <tr style=\"text-align: right;\">\n",
       "      <th>flag_up</th>\n",
       "      <th>0.0</th>\n",
       "      <th>1.0</th>\n",
       "    </tr>\n",
       "    <tr>\n",
       "      <th>cluster</th>\n",
       "      <th></th>\n",
       "      <th></th>\n",
       "    </tr>\n",
       "  </thead>\n",
       "  <tbody>\n",
       "    <tr>\n",
       "      <th>0</th>\n",
       "      <td>1972</td>\n",
       "      <td>2273</td>\n",
       "    </tr>\n",
       "    <tr>\n",
       "      <th>1</th>\n",
       "      <td>1346</td>\n",
       "      <td>204</td>\n",
       "    </tr>\n",
       "    <tr>\n",
       "      <th>2</th>\n",
       "      <td>1183</td>\n",
       "      <td>505</td>\n",
       "    </tr>\n",
       "  </tbody>\n",
       "</table>\n",
       "</div>"
      ],
      "text/plain": [
       "flag_up   0.0   1.0\n",
       "cluster            \n",
       "0        1972  2273\n",
       "1        1346   204\n",
       "2        1183   505"
      ]
     },
     "execution_count": 91,
     "metadata": {},
     "output_type": "execute_result"
    }
   ],
   "source": [
    "UP = df_fin.groupby(['cluster','flag_up']).size()\n",
    "UP = UP.reset_index()\n",
    "UP = pd.pivot_table(UP,columns='flag_up',index='cluster',values=0)\n",
    "UP.fillna(0, inplace=True)\n",
    "UP"
   ]
  },
  {
   "cell_type": "markdown",
   "metadata": {},
   "source": [
    " *Tenemos aproximadamente 3000 usuarios con tag UP dentro de la WL*\n",
    " *Con 2273 users, en el cluster 2 se encuentra el 76% de los usuarios con UP. El resto se distribuye en partes iguales dentro de los otros dos clusters*"
   ]
  },
  {
   "cell_type": "markdown",
   "metadata": {},
   "source": [
    "### Distribution users with TPV High"
   ]
  },
  {
   "cell_type": "code",
   "execution_count": 92,
   "metadata": {},
   "outputs": [
    {
     "data": {
      "text/plain": [
       "1.0    5166\n",
       "0.0    2317\n",
       "Name: flag_tpv_high, dtype: int64"
      ]
     },
     "execution_count": 92,
     "metadata": {},
     "output_type": "execute_result"
    }
   ],
   "source": [
    "df_fin['flag_tpv_high'].value_counts()"
   ]
  },
  {
   "cell_type": "code",
   "execution_count": 93,
   "metadata": {},
   "outputs": [
    {
     "data": {
      "text/html": [
       "<div>\n",
       "<style scoped>\n",
       "    .dataframe tbody tr th:only-of-type {\n",
       "        vertical-align: middle;\n",
       "    }\n",
       "\n",
       "    .dataframe tbody tr th {\n",
       "        vertical-align: top;\n",
       "    }\n",
       "\n",
       "    .dataframe thead th {\n",
       "        text-align: right;\n",
       "    }\n",
       "</style>\n",
       "<table border=\"1\" class=\"dataframe\">\n",
       "  <thead>\n",
       "    <tr style=\"text-align: right;\">\n",
       "      <th>flag_tpv_high</th>\n",
       "      <th>0.0</th>\n",
       "      <th>1.0</th>\n",
       "    </tr>\n",
       "    <tr>\n",
       "      <th>cluster</th>\n",
       "      <th></th>\n",
       "      <th></th>\n",
       "    </tr>\n",
       "  </thead>\n",
       "  <tbody>\n",
       "    <tr>\n",
       "      <th>0</th>\n",
       "      <td>38</td>\n",
       "      <td>4207</td>\n",
       "    </tr>\n",
       "    <tr>\n",
       "      <th>1</th>\n",
       "      <td>1414</td>\n",
       "      <td>136</td>\n",
       "    </tr>\n",
       "    <tr>\n",
       "      <th>2</th>\n",
       "      <td>865</td>\n",
       "      <td>823</td>\n",
       "    </tr>\n",
       "  </tbody>\n",
       "</table>\n",
       "</div>"
      ],
      "text/plain": [
       "flag_tpv_high   0.0   1.0\n",
       "cluster                  \n",
       "0                38  4207\n",
       "1              1414   136\n",
       "2               865   823"
      ]
     },
     "execution_count": 93,
     "metadata": {},
     "output_type": "execute_result"
    }
   ],
   "source": [
    "TPV = df_fin.groupby(['cluster','flag_tpv_high']).size()\n",
    "TPV = TPV.reset_index()\n",
    "TPV = pd.pivot_table(TPV,columns='flag_tpv_high',index='cluster',values=0)\n",
    "TPV.fillna(0, inplace=True)\n",
    "TPV"
   ]
  },
  {
   "cell_type": "markdown",
   "metadata": {},
   "source": [
    " *Tenemos aproximadamente 5150 usuarios con TPV HIGH dentro de la WL*\n",
    " *Con 4207 users, en el cluster 2 se encuentra el 81% de los usuarios con TPV HIGH.*"
   ]
  },
  {
   "cell_type": "markdown",
   "metadata": {},
   "source": [
    "### Distribution users with GMV High"
   ]
  },
  {
   "cell_type": "code",
   "execution_count": 94,
   "metadata": {},
   "outputs": [
    {
     "data": {
      "text/plain": [
       "1.0    4244\n",
       "0.0    3239\n",
       "Name: flag_gmv_high, dtype: int64"
      ]
     },
     "execution_count": 94,
     "metadata": {},
     "output_type": "execute_result"
    }
   ],
   "source": [
    "df_fin['flag_gmv_high'].value_counts()"
   ]
  },
  {
   "cell_type": "code",
   "execution_count": 95,
   "metadata": {},
   "outputs": [
    {
     "data": {
      "text/html": [
       "<div>\n",
       "<style scoped>\n",
       "    .dataframe tbody tr th:only-of-type {\n",
       "        vertical-align: middle;\n",
       "    }\n",
       "\n",
       "    .dataframe tbody tr th {\n",
       "        vertical-align: top;\n",
       "    }\n",
       "\n",
       "    .dataframe thead th {\n",
       "        text-align: right;\n",
       "    }\n",
       "</style>\n",
       "<table border=\"1\" class=\"dataframe\">\n",
       "  <thead>\n",
       "    <tr style=\"text-align: right;\">\n",
       "      <th>flag_gmv_high</th>\n",
       "      <th>0.0</th>\n",
       "      <th>1.0</th>\n",
       "    </tr>\n",
       "    <tr>\n",
       "      <th>cluster</th>\n",
       "      <th></th>\n",
       "      <th></th>\n",
       "    </tr>\n",
       "  </thead>\n",
       "  <tbody>\n",
       "    <tr>\n",
       "      <th>0</th>\n",
       "      <td>4.0</td>\n",
       "      <td>4241.0</td>\n",
       "    </tr>\n",
       "    <tr>\n",
       "      <th>1</th>\n",
       "      <td>1550.0</td>\n",
       "      <td>0.0</td>\n",
       "    </tr>\n",
       "    <tr>\n",
       "      <th>2</th>\n",
       "      <td>1685.0</td>\n",
       "      <td>3.0</td>\n",
       "    </tr>\n",
       "  </tbody>\n",
       "</table>\n",
       "</div>"
      ],
      "text/plain": [
       "flag_gmv_high     0.0     1.0\n",
       "cluster                      \n",
       "0                 4.0  4241.0\n",
       "1              1550.0     0.0\n",
       "2              1685.0     3.0"
      ]
     },
     "execution_count": 95,
     "metadata": {},
     "output_type": "execute_result"
    }
   ],
   "source": [
    "GMV = df_fin.groupby(['cluster','flag_gmv_high']).size()\n",
    "GMV = GMV.reset_index()\n",
    "GMV = pd.pivot_table(GMV,columns='flag_gmv_high',index='cluster',values=0)\n",
    "GMV.fillna(0, inplace=True)\n",
    "GMV"
   ]
  },
  {
   "cell_type": "markdown",
   "metadata": {},
   "source": [
    " *Tenemos aproximadamente 4250 usuarios con GMV HIGH dentro de la WL*\n",
    " *Con 4241 users, en el cluster 2 se encuentra el 99% de los usuarios con GMV HIGH.*"
   ]
  },
  {
   "cell_type": "markdown",
   "metadata": {},
   "source": [
    "### Distribution Trusted Sellers"
   ]
  },
  {
   "cell_type": "code",
   "execution_count": 96,
   "metadata": {},
   "outputs": [
    {
     "data": {
      "text/plain": [
       "1.0    5850\n",
       "0.0    1633\n",
       "Name: flag_trusted_seller, dtype: int64"
      ]
     },
     "execution_count": 96,
     "metadata": {},
     "output_type": "execute_result"
    }
   ],
   "source": [
    "df_fin['flag_trusted_seller'].value_counts()"
   ]
  },
  {
   "cell_type": "code",
   "execution_count": 97,
   "metadata": {},
   "outputs": [
    {
     "data": {
      "text/html": [
       "<div>\n",
       "<style scoped>\n",
       "    .dataframe tbody tr th:only-of-type {\n",
       "        vertical-align: middle;\n",
       "    }\n",
       "\n",
       "    .dataframe tbody tr th {\n",
       "        vertical-align: top;\n",
       "    }\n",
       "\n",
       "    .dataframe thead th {\n",
       "        text-align: right;\n",
       "    }\n",
       "</style>\n",
       "<table border=\"1\" class=\"dataframe\">\n",
       "  <thead>\n",
       "    <tr style=\"text-align: right;\">\n",
       "      <th>flag_trusted_seller</th>\n",
       "      <th>0.0</th>\n",
       "      <th>1.0</th>\n",
       "    </tr>\n",
       "    <tr>\n",
       "      <th>cluster</th>\n",
       "      <th></th>\n",
       "      <th></th>\n",
       "    </tr>\n",
       "  </thead>\n",
       "  <tbody>\n",
       "    <tr>\n",
       "      <th>0</th>\n",
       "      <td>30</td>\n",
       "      <td>4215</td>\n",
       "    </tr>\n",
       "    <tr>\n",
       "      <th>1</th>\n",
       "      <td>1367</td>\n",
       "      <td>183</td>\n",
       "    </tr>\n",
       "    <tr>\n",
       "      <th>2</th>\n",
       "      <td>236</td>\n",
       "      <td>1452</td>\n",
       "    </tr>\n",
       "  </tbody>\n",
       "</table>\n",
       "</div>"
      ],
      "text/plain": [
       "flag_trusted_seller   0.0   1.0\n",
       "cluster                        \n",
       "0                      30  4215\n",
       "1                    1367   183\n",
       "2                     236  1452"
      ]
     },
     "execution_count": 97,
     "metadata": {},
     "output_type": "execute_result"
    }
   ],
   "source": [
    "Trusted = df_fin.groupby(['cluster','flag_trusted_seller']).size()\n",
    "Trusted = Trusted.reset_index()\n",
    "Trusted = pd.pivot_table(Trusted,columns='flag_trusted_seller',index='cluster',values=0)\n",
    "Trusted.fillna(0, inplace=True)\n",
    "Trusted"
   ]
  },
  {
   "cell_type": "markdown",
   "metadata": {},
   "source": [
    " *Tenemos 5850 Trusted Sellers dentro de la WL*\n",
    " *Con 4215 users, en el cluster 2 se encuentra el 72% de los usuarios con Trusted Sellers.*\n",
    " *El 99% de los users en el cluster 2 son Trusted Sellers*"
   ]
  },
  {
   "cell_type": "markdown",
   "metadata": {},
   "source": [
    "## Conclusions"
   ]
  },
  {
   "cell_type": "markdown",
   "metadata": {},
   "source": [
    "### Cluster 0: \n",
    " *Este cluster cuenta con 1688 usuarios los cuales son unicamente del ON y practicamente todos ACTIVOS en los ultimos 90 días. En este cluster se enceuntran gran parte de los usuarios untrusted con TPV y GMV low o null. La mayrorai de estos users no son UP pero si tienen ADELANTOS activos.\n",
    "Este cluster cuenta con los usuarios activos del ON mas chicos de la WL.*"
   ]
  },
  {
   "cell_type": "markdown",
   "metadata": {},
   "source": [
    "### Cluster 1: \n",
    "*Este cluster cuenta con 1550 usuarios que son un mix entre ON y OFF. Gran parte de estos usarios estan INACTIVOS en los ultimos 90 días. En este cluster tenemos mayoria de usuarios UNTRUSTED con TPV y GMV low o null. La mayrorai de estos users no son UP ni tienen ADELANTOS activos.\n",
    "El cluster 1 cuenta con la \"basura\" dentro de la WL ya que aca estan todos los usuarios inactivos.*"
   ]
  },
  {
   "cell_type": "markdown",
   "metadata": {},
   "source": [
    "### Cluster 2: \n",
    "*Este cluster cuenta con 4245 usuarios los cuales son unicamente del ON y todos ACTIVOS en los ultimos 90 días. En este cluster practicamente todos los usuarios son TRUSTED con TPV y GMV high. Gran parte de los UP se encuentran dentro de este cluster y muchos de ellos tienen ADELANTOS activos.\n",
    "El cluster 2 cuenta con los usuarios activos del ON mas grandes y con mayor confianza nuestra dentro de la WL. En este cluster tenemos a los mejores usuarios.*"
   ]
  },
  {
   "cell_type": "markdown",
   "metadata": {},
   "source": [
    "### Cluster 3: \n",
    "*Este cluster cuenta con 886 usuarios. Aqui tenemos las exepciones de usuarios internos, test y que se encuentran en la lista de legales.*"
   ]
  },
  {
   "cell_type": "markdown",
   "metadata": {},
   "source": [
    "## Sub Clustering Cluster 2"
   ]
  },
  {
   "cell_type": "markdown",
   "metadata": {},
   "source": [
    "### Showing the DF 2"
   ]
  },
  {
   "cell_type": "code",
   "execution_count": 100,
   "metadata": {},
   "outputs": [
    {
     "data": {
      "text/plain": [
       "(1688, 26)"
      ]
     },
     "execution_count": 100,
     "metadata": {},
     "output_type": "execute_result"
    }
   ],
   "source": [
    "df_2.shape"
   ]
  },
  {
   "cell_type": "code",
   "execution_count": 101,
   "metadata": {},
   "outputs": [
    {
     "data": {
      "text/html": [
       "<div>\n",
       "<style scoped>\n",
       "    .dataframe tbody tr th:only-of-type {\n",
       "        vertical-align: middle;\n",
       "    }\n",
       "\n",
       "    .dataframe tbody tr th {\n",
       "        vertical-align: top;\n",
       "    }\n",
       "\n",
       "    .dataframe thead th {\n",
       "        text-align: right;\n",
       "    }\n",
       "</style>\n",
       "<table border=\"1\" class=\"dataframe\">\n",
       "  <thead>\n",
       "    <tr style=\"text-align: right;\">\n",
       "      <th></th>\n",
       "      <th>registration_date</th>\n",
       "      <th>sit_site_id</th>\n",
       "      <th>cus_nickname</th>\n",
       "      <th>flag_ca</th>\n",
       "      <th>flag_mia</th>\n",
       "      <th>flag_up</th>\n",
       "      <th>flag_trusted_seller</th>\n",
       "      <th>flag_gmv_high</th>\n",
       "      <th>flag_gmv_low</th>\n",
       "      <th>flag_tpv_high</th>\n",
       "      <th>...</th>\n",
       "      <th>gmv_not_refund</th>\n",
       "      <th>count_orders</th>\n",
       "      <th>cashout</th>\n",
       "      <th>gmv_claims_seller</th>\n",
       "      <th>count_claims_seller</th>\n",
       "      <th>flag_on_final</th>\n",
       "      <th>activo</th>\n",
       "      <th>tpv_nulo</th>\n",
       "      <th>gmv_nulo</th>\n",
       "      <th>cluster</th>\n",
       "    </tr>\n",
       "    <tr>\n",
       "      <th>CUS_CUST_ID</th>\n",
       "      <th></th>\n",
       "      <th></th>\n",
       "      <th></th>\n",
       "      <th></th>\n",
       "      <th></th>\n",
       "      <th></th>\n",
       "      <th></th>\n",
       "      <th></th>\n",
       "      <th></th>\n",
       "      <th></th>\n",
       "      <th></th>\n",
       "      <th></th>\n",
       "      <th></th>\n",
       "      <th></th>\n",
       "      <th></th>\n",
       "      <th></th>\n",
       "      <th></th>\n",
       "      <th></th>\n",
       "      <th></th>\n",
       "      <th></th>\n",
       "      <th></th>\n",
       "    </tr>\n",
       "  </thead>\n",
       "  <tbody>\n",
       "    <tr>\n",
       "      <th>45790119</th>\n",
       "      <td>2008-02-27</td>\n",
       "      <td>MCO</td>\n",
       "      <td>DIAGNOSTIQ MEDICAL</td>\n",
       "      <td>1.0</td>\n",
       "      <td>1.0</td>\n",
       "      <td>1.0</td>\n",
       "      <td>1.0</td>\n",
       "      <td>0.0</td>\n",
       "      <td>1.0</td>\n",
       "      <td>0.0</td>\n",
       "      <td>...</td>\n",
       "      <td>12110.48</td>\n",
       "      <td>239.0</td>\n",
       "      <td>100.65</td>\n",
       "      <td>314.09</td>\n",
       "      <td>5.0</td>\n",
       "      <td>1</td>\n",
       "      <td>1</td>\n",
       "      <td>0</td>\n",
       "      <td>0</td>\n",
       "      <td>2</td>\n",
       "    </tr>\n",
       "    <tr>\n",
       "      <th>244903188</th>\n",
       "      <td>2017-02-22</td>\n",
       "      <td>MLB</td>\n",
       "      <td>GMCICAL</td>\n",
       "      <td>1.0</td>\n",
       "      <td>0.0</td>\n",
       "      <td>0.0</td>\n",
       "      <td>1.0</td>\n",
       "      <td>0.0</td>\n",
       "      <td>1.0</td>\n",
       "      <td>0.0</td>\n",
       "      <td>...</td>\n",
       "      <td>599.45</td>\n",
       "      <td>16.0</td>\n",
       "      <td>0.00</td>\n",
       "      <td>109.60</td>\n",
       "      <td>1.0</td>\n",
       "      <td>1</td>\n",
       "      <td>1</td>\n",
       "      <td>0</td>\n",
       "      <td>0</td>\n",
       "      <td>2</td>\n",
       "    </tr>\n",
       "    <tr>\n",
       "      <th>102979606</th>\n",
       "      <td>2012-02-16</td>\n",
       "      <td>MCO</td>\n",
       "      <td>DIGISMART.CO</td>\n",
       "      <td>0.0</td>\n",
       "      <td>1.0</td>\n",
       "      <td>0.0</td>\n",
       "      <td>1.0</td>\n",
       "      <td>0.0</td>\n",
       "      <td>1.0</td>\n",
       "      <td>0.0</td>\n",
       "      <td>...</td>\n",
       "      <td>367.08</td>\n",
       "      <td>32.0</td>\n",
       "      <td>0.00</td>\n",
       "      <td>14.23</td>\n",
       "      <td>2.0</td>\n",
       "      <td>1</td>\n",
       "      <td>1</td>\n",
       "      <td>0</td>\n",
       "      <td>0</td>\n",
       "      <td>2</td>\n",
       "    </tr>\n",
       "    <tr>\n",
       "      <th>167086628</th>\n",
       "      <td>2015-01-14</td>\n",
       "      <td>MLB</td>\n",
       "      <td>YASMIN BAZAR</td>\n",
       "      <td>0.0</td>\n",
       "      <td>1.0</td>\n",
       "      <td>0.0</td>\n",
       "      <td>1.0</td>\n",
       "      <td>0.0</td>\n",
       "      <td>1.0</td>\n",
       "      <td>1.0</td>\n",
       "      <td>...</td>\n",
       "      <td>10365.96</td>\n",
       "      <td>650.0</td>\n",
       "      <td>0.00</td>\n",
       "      <td>899.52</td>\n",
       "      <td>48.0</td>\n",
       "      <td>1</td>\n",
       "      <td>1</td>\n",
       "      <td>0</td>\n",
       "      <td>0</td>\n",
       "      <td>2</td>\n",
       "    </tr>\n",
       "    <tr>\n",
       "      <th>264717561</th>\n",
       "      <td>2017-07-17</td>\n",
       "      <td>MLM</td>\n",
       "      <td>BOOLCHANDSMX</td>\n",
       "      <td>1.0</td>\n",
       "      <td>0.0</td>\n",
       "      <td>0.0</td>\n",
       "      <td>1.0</td>\n",
       "      <td>0.0</td>\n",
       "      <td>1.0</td>\n",
       "      <td>0.0</td>\n",
       "      <td>...</td>\n",
       "      <td>9523.78</td>\n",
       "      <td>62.0</td>\n",
       "      <td>208.86</td>\n",
       "      <td>3442.50</td>\n",
       "      <td>13.0</td>\n",
       "      <td>1</td>\n",
       "      <td>1</td>\n",
       "      <td>0</td>\n",
       "      <td>0</td>\n",
       "      <td>2</td>\n",
       "    </tr>\n",
       "  </tbody>\n",
       "</table>\n",
       "<p>5 rows × 26 columns</p>\n",
       "</div>"
      ],
      "text/plain": [
       "            registration_date sit_site_id        cus_nickname  flag_ca  \\\n",
       "CUS_CUST_ID                                                              \n",
       "45790119           2008-02-27      MCO     DIAGNOSTIQ MEDICAL      1.0   \n",
       "244903188          2017-02-22      MLB                GMCICAL      1.0   \n",
       "102979606          2012-02-16      MCO           DIGISMART.CO      0.0   \n",
       "167086628          2015-01-14      MLB           YASMIN BAZAR      0.0   \n",
       "264717561          2017-07-17      MLM           BOOLCHANDSMX      1.0   \n",
       "\n",
       "             flag_mia  flag_up  flag_trusted_seller  flag_gmv_high  \\\n",
       "CUS_CUST_ID                                                          \n",
       "45790119          1.0      1.0                  1.0            0.0   \n",
       "244903188         0.0      0.0                  1.0            0.0   \n",
       "102979606         1.0      0.0                  1.0            0.0   \n",
       "167086628         1.0      0.0                  1.0            0.0   \n",
       "264717561         0.0      0.0                  1.0            0.0   \n",
       "\n",
       "             flag_gmv_low  flag_tpv_high  ...  gmv_not_refund  count_orders  \\\n",
       "CUS_CUST_ID                               ...                                 \n",
       "45790119              1.0            0.0  ...        12110.48         239.0   \n",
       "244903188             1.0            0.0  ...          599.45          16.0   \n",
       "102979606             1.0            0.0  ...          367.08          32.0   \n",
       "167086628             1.0            1.0  ...        10365.96         650.0   \n",
       "264717561             1.0            0.0  ...         9523.78          62.0   \n",
       "\n",
       "             cashout  gmv_claims_seller count_claims_seller  flag_on_final  \\\n",
       "CUS_CUST_ID                                                                  \n",
       "45790119      100.65             314.09                 5.0              1   \n",
       "244903188       0.00             109.60                 1.0              1   \n",
       "102979606       0.00              14.23                 2.0              1   \n",
       "167086628       0.00             899.52                48.0              1   \n",
       "264717561     208.86            3442.50                13.0              1   \n",
       "\n",
       "             activo  tpv_nulo  gmv_nulo  cluster  \n",
       "CUS_CUST_ID                                       \n",
       "45790119          1         0         0        2  \n",
       "244903188         1         0         0        2  \n",
       "102979606         1         0         0        2  \n",
       "167086628         1         0         0        2  \n",
       "264717561         1         0         0        2  \n",
       "\n",
       "[5 rows x 26 columns]"
      ]
     },
     "execution_count": 101,
     "metadata": {},
     "output_type": "execute_result"
    }
   ],
   "source": [
    "df_2.head(5)"
   ]
  },
  {
   "cell_type": "code",
   "execution_count": 102,
   "metadata": {},
   "outputs": [
    {
     "data": {
      "text/plain": [
       "Index(['registration_date', 'sit_site_id', 'cus_nickname', 'flag_ca',\n",
       "       'flag_mia', 'flag_up', 'flag_trusted_seller', 'flag_gmv_high',\n",
       "       'flag_gmv_low', 'flag_tpv_high', 'flag_tpv_low', 'flag_repu_ml',\n",
       "       'flag_repu_glg', 'flag_repu_yor', 'last_transaction', 'tpv_approved',\n",
       "       'gmv_not_refund', 'count_orders', 'cashout', 'gmv_claims_seller',\n",
       "       'count_claims_seller', 'flag_on_final', 'activo', 'tpv_nulo',\n",
       "       'gmv_nulo', 'cluster'],\n",
       "      dtype='object')"
      ]
     },
     "execution_count": 102,
     "metadata": {},
     "output_type": "execute_result"
    }
   ],
   "source": [
    "df_2.columns"
   ]
  },
  {
   "cell_type": "markdown",
   "metadata": {},
   "source": [
    "### Drop columns that are not required for the analyze"
   ]
  },
  {
   "cell_type": "code",
   "execution_count": 108,
   "metadata": {},
   "outputs": [],
   "source": [
    "df_sub2=df_2.drop(columns=['registration_date','sit_site_id','cus_nickname','last_transaction','tpv_approved','gmv_not_refund','count_orders','cashout','gmv_claims_seller','count_claims_seller','cluster'])\n"
   ]
  },
  {
   "cell_type": "code",
   "execution_count": 109,
   "metadata": {},
   "outputs": [
    {
     "data": {
      "text/plain": [
       "Index(['flag_ca', 'flag_mia', 'flag_up', 'flag_trusted_seller',\n",
       "       'flag_gmv_high', 'flag_gmv_low', 'flag_tpv_high', 'flag_tpv_low',\n",
       "       'flag_repu_ml', 'flag_repu_glg', 'flag_repu_yor', 'flag_on_final',\n",
       "       'activo', 'tpv_nulo', 'gmv_nulo'],\n",
       "      dtype='object')"
      ]
     },
     "execution_count": 109,
     "metadata": {},
     "output_type": "execute_result"
    }
   ],
   "source": [
    "df_sub2.columns"
   ]
  },
  {
   "cell_type": "markdown",
   "metadata": {},
   "source": [
    "## Sub Clustering"
   ]
  },
  {
   "cell_type": "markdown",
   "metadata": {},
   "source": [
    "### Looking the amount of clusters"
   ]
  },
  {
   "cell_type": "code",
   "execution_count": 110,
   "metadata": {},
   "outputs": [],
   "source": [
    "from kmodes.kmodes import KModes"
   ]
  },
  {
   "cell_type": "code",
   "execution_count": 111,
   "metadata": {},
   "outputs": [
    {
     "data": {
      "text/plain": [
       "Text(0.5, 0, 'Cantidad de clusters')"
      ]
     },
     "execution_count": 111,
     "metadata": {},
     "output_type": "execute_result"
    },
    {
     "data": {
      "image/png": "[encoded data removed]",
      "text/plain": [
       "<Figure size 432x288 with 1 Axes>"
      ]
     },
     "metadata": {},
     "output_type": "display_data"
    }
   ],
   "source": [
    "inercias = []\n",
    "for i in range(1, 20):\n",
    "    kmodes = KModes(n_clusters=i).fit(df_sub2)\n",
    "    inercias.append(kmodes.cost_)\n",
    "plt.plot(range(1, 20), inercias)\n",
    "plt.ylabel('Inercia')\n",
    "plt.xlabel('Cantidad de clusters')"
   ]
  },
  {
   "cell_type": "markdown",
   "metadata": {},
   "source": [
    "### Creating the sub clusters 2"
   ]
  },
  {
   "cell_type": "code",
   "execution_count": 112,
   "metadata": {},
   "outputs": [
    {
     "name": "stdout",
     "output_type": "stream",
     "text": [
      "Cluster data samples :  [[ 0.85203954  0.68118055  1.53054705  0.4031556  -0.04219497  0.12009612\n",
      "  -0.97542047  1.00118554  0.99174027 -0.45735003 -0.65890411  0.\n",
      "   0.04873702 -0.11491424 -0.1122385 ]\n",
      " [ 0.85203954 -1.46803957 -0.65336116  0.4031556  -0.04219497  0.12009612\n",
      "  -0.97542047  1.00118554 -1.00832852 -0.45735003  1.51767151  0.\n",
      "   0.04873702 -0.11491424 -0.1122385 ]\n",
      " [-1.17365446  0.68118055 -0.65336116  0.4031556  -0.04219497  0.12009612\n",
      "  -0.97542047  1.00118554 -1.00832852 -0.45735003  1.51767151  0.\n",
      "   0.04873702 -0.11491424 -0.1122385 ]]\n"
     ]
    }
   ],
   "source": [
    "X = df_sub2.values\n",
    "X = np.nan_to_num(X)\n",
    "\n",
    "sc = StandardScaler()\n",
    "\n",
    "cluster_data = sc.fit_transform(X)\n",
    "print('Cluster data samples : ', cluster_data[:3])"
   ]
  },
  {
   "cell_type": "code",
   "execution_count": 113,
   "metadata": {},
   "outputs": [
    {
     "name": "stdout",
     "output_type": "stream",
     "text": [
      "[3 0 0 1 3 1 0 3 2 1 2 0 2 1 3 1 1 0 1 1 0 1 0 2 3 1 1 3 1 0 0 1 1 1 1 3 1\n",
      " 1 1 1 0 2 1 3 2 2 2 2 0 1 3 3 3 0 1 2 1 1 0 3 1 2 3 0 1 2 1 1 1 1 0 1 2 0\n",
      " 1 1 3 0 1 1 0 1 2 0 0 1 1 0 0 2 3 0 3 3 1 2 1 3 2 0]\n"
     ]
    }
   ],
   "source": [
    "clusters = 4\n",
    "model = KMeans(init = 'k-means++', \n",
    "               n_clusters = clusters, \n",
    "               n_init = 12)\n",
    "model.fit(X)\n",
    "\n",
    "labels = model.labels_\n",
    "print(labels[:100])"
   ]
  },
  {
   "cell_type": "markdown",
   "metadata": {},
   "source": [
    "### Assign the clusters to each CUS_CUST_ID"
   ]
  },
  {
   "cell_type": "code",
   "execution_count": 116,
   "metadata": {},
   "outputs": [],
   "source": [
    "df_sub2['sub_cluster']=labels"
   ]
  },
  {
   "cell_type": "code",
   "execution_count": 117,
   "metadata": {},
   "outputs": [
    {
     "data": {
      "text/plain": [
       "(1688, 16)"
      ]
     },
     "execution_count": 117,
     "metadata": {},
     "output_type": "execute_result"
    }
   ],
   "source": [
    "df_sub2.shape"
   ]
  },
  {
   "cell_type": "code",
   "execution_count": 118,
   "metadata": {},
   "outputs": [],
   "source": [
    "df_sub2 = df_sub2.reset_index()"
   ]
  },
  {
   "cell_type": "code",
   "execution_count": 119,
   "metadata": {},
   "outputs": [],
   "source": [
    "columns = ['CUS_CUST_ID','sub_cluster']"
   ]
  },
  {
   "cell_type": "code",
   "execution_count": 120,
   "metadata": {},
   "outputs": [],
   "source": [
    "df_sub_bis2 = df_sub2[columns]"
   ]
  },
  {
   "cell_type": "code",
   "execution_count": 121,
   "metadata": {},
   "outputs": [],
   "source": [
    "df_sub2_fin=pd.merge(left = df_2, right = df_sub_bis2,\n",
    "                  how = 'left',\n",
    "                  left_on='CUS_CUST_ID', right_on='CUS_CUST_ID')"
   ]
  },
  {
   "cell_type": "markdown",
   "metadata": {},
   "source": [
    "### Show the data of de sub cluster"
   ]
  },
  {
   "cell_type": "code",
   "execution_count": 122,
   "metadata": {},
   "outputs": [
    {
     "data": {
      "text/html": [
       "<div>\n",
       "<style scoped>\n",
       "    .dataframe tbody tr th:only-of-type {\n",
       "        vertical-align: middle;\n",
       "    }\n",
       "\n",
       "    .dataframe tbody tr th {\n",
       "        vertical-align: top;\n",
       "    }\n",
       "\n",
       "    .dataframe thead th {\n",
       "        text-align: right;\n",
       "    }\n",
       "</style>\n",
       "<table border=\"1\" class=\"dataframe\">\n",
       "  <thead>\n",
       "    <tr style=\"text-align: right;\">\n",
       "      <th></th>\n",
       "      <th>CUS_CUST_ID</th>\n",
       "      <th>registration_date</th>\n",
       "      <th>sit_site_id</th>\n",
       "      <th>cus_nickname</th>\n",
       "      <th>flag_ca</th>\n",
       "      <th>flag_mia</th>\n",
       "      <th>flag_up</th>\n",
       "      <th>flag_trusted_seller</th>\n",
       "      <th>flag_gmv_high</th>\n",
       "      <th>flag_gmv_low</th>\n",
       "      <th>...</th>\n",
       "      <th>count_orders</th>\n",
       "      <th>cashout</th>\n",
       "      <th>gmv_claims_seller</th>\n",
       "      <th>count_claims_seller</th>\n",
       "      <th>flag_on_final</th>\n",
       "      <th>activo</th>\n",
       "      <th>tpv_nulo</th>\n",
       "      <th>gmv_nulo</th>\n",
       "      <th>cluster</th>\n",
       "      <th>sub_cluster</th>\n",
       "    </tr>\n",
       "  </thead>\n",
       "  <tbody>\n",
       "    <tr>\n",
       "      <th>0</th>\n",
       "      <td>45790119</td>\n",
       "      <td>2008-02-27</td>\n",
       "      <td>MCO</td>\n",
       "      <td>DIAGNOSTIQ MEDICAL</td>\n",
       "      <td>1.0</td>\n",
       "      <td>1.0</td>\n",
       "      <td>1.0</td>\n",
       "      <td>1.0</td>\n",
       "      <td>0.0</td>\n",
       "      <td>1.0</td>\n",
       "      <td>...</td>\n",
       "      <td>239.0</td>\n",
       "      <td>100.65</td>\n",
       "      <td>314.09</td>\n",
       "      <td>5.0</td>\n",
       "      <td>1</td>\n",
       "      <td>1</td>\n",
       "      <td>0</td>\n",
       "      <td>0</td>\n",
       "      <td>2</td>\n",
       "      <td>3</td>\n",
       "    </tr>\n",
       "    <tr>\n",
       "      <th>1</th>\n",
       "      <td>244903188</td>\n",
       "      <td>2017-02-22</td>\n",
       "      <td>MLB</td>\n",
       "      <td>GMCICAL</td>\n",
       "      <td>1.0</td>\n",
       "      <td>0.0</td>\n",
       "      <td>0.0</td>\n",
       "      <td>1.0</td>\n",
       "      <td>0.0</td>\n",
       "      <td>1.0</td>\n",
       "      <td>...</td>\n",
       "      <td>16.0</td>\n",
       "      <td>0.00</td>\n",
       "      <td>109.60</td>\n",
       "      <td>1.0</td>\n",
       "      <td>1</td>\n",
       "      <td>1</td>\n",
       "      <td>0</td>\n",
       "      <td>0</td>\n",
       "      <td>2</td>\n",
       "      <td>0</td>\n",
       "    </tr>\n",
       "    <tr>\n",
       "      <th>2</th>\n",
       "      <td>102979606</td>\n",
       "      <td>2012-02-16</td>\n",
       "      <td>MCO</td>\n",
       "      <td>DIGISMART.CO</td>\n",
       "      <td>0.0</td>\n",
       "      <td>1.0</td>\n",
       "      <td>0.0</td>\n",
       "      <td>1.0</td>\n",
       "      <td>0.0</td>\n",
       "      <td>1.0</td>\n",
       "      <td>...</td>\n",
       "      <td>32.0</td>\n",
       "      <td>0.00</td>\n",
       "      <td>14.23</td>\n",
       "      <td>2.0</td>\n",
       "      <td>1</td>\n",
       "      <td>1</td>\n",
       "      <td>0</td>\n",
       "      <td>0</td>\n",
       "      <td>2</td>\n",
       "      <td>0</td>\n",
       "    </tr>\n",
       "    <tr>\n",
       "      <th>3</th>\n",
       "      <td>167086628</td>\n",
       "      <td>2015-01-14</td>\n",
       "      <td>MLB</td>\n",
       "      <td>YASMIN BAZAR</td>\n",
       "      <td>0.0</td>\n",
       "      <td>1.0</td>\n",
       "      <td>0.0</td>\n",
       "      <td>1.0</td>\n",
       "      <td>0.0</td>\n",
       "      <td>1.0</td>\n",
       "      <td>...</td>\n",
       "      <td>650.0</td>\n",
       "      <td>0.00</td>\n",
       "      <td>899.52</td>\n",
       "      <td>48.0</td>\n",
       "      <td>1</td>\n",
       "      <td>1</td>\n",
       "      <td>0</td>\n",
       "      <td>0</td>\n",
       "      <td>2</td>\n",
       "      <td>1</td>\n",
       "    </tr>\n",
       "    <tr>\n",
       "      <th>4</th>\n",
       "      <td>264717561</td>\n",
       "      <td>2017-07-17</td>\n",
       "      <td>MLM</td>\n",
       "      <td>BOOLCHANDSMX</td>\n",
       "      <td>1.0</td>\n",
       "      <td>0.0</td>\n",
       "      <td>0.0</td>\n",
       "      <td>1.0</td>\n",
       "      <td>0.0</td>\n",
       "      <td>1.0</td>\n",
       "      <td>...</td>\n",
       "      <td>62.0</td>\n",
       "      <td>208.86</td>\n",
       "      <td>3442.50</td>\n",
       "      <td>13.0</td>\n",
       "      <td>1</td>\n",
       "      <td>1</td>\n",
       "      <td>0</td>\n",
       "      <td>0</td>\n",
       "      <td>2</td>\n",
       "      <td>3</td>\n",
       "    </tr>\n",
       "  </tbody>\n",
       "</table>\n",
       "<p>5 rows × 28 columns</p>\n",
       "</div>"
      ],
      "text/plain": [
       "   CUS_CUST_ID registration_date sit_site_id        cus_nickname  flag_ca  \\\n",
       "0     45790119        2008-02-27      MCO     DIAGNOSTIQ MEDICAL      1.0   \n",
       "1    244903188        2017-02-22      MLB                GMCICAL      1.0   \n",
       "2    102979606        2012-02-16      MCO           DIGISMART.CO      0.0   \n",
       "3    167086628        2015-01-14      MLB           YASMIN BAZAR      0.0   \n",
       "4    264717561        2017-07-17      MLM           BOOLCHANDSMX      1.0   \n",
       "\n",
       "   flag_mia  flag_up  flag_trusted_seller  flag_gmv_high  flag_gmv_low  ...  \\\n",
       "0       1.0      1.0                  1.0            0.0           1.0  ...   \n",
       "1       0.0      0.0                  1.0            0.0           1.0  ...   \n",
       "2       1.0      0.0                  1.0            0.0           1.0  ...   \n",
       "3       1.0      0.0                  1.0            0.0           1.0  ...   \n",
       "4       0.0      0.0                  1.0            0.0           1.0  ...   \n",
       "\n",
       "   count_orders  cashout  gmv_claims_seller  count_claims_seller  \\\n",
       "0         239.0   100.65             314.09                  5.0   \n",
       "1          16.0     0.00             109.60                  1.0   \n",
       "2          32.0     0.00              14.23                  2.0   \n",
       "3         650.0     0.00             899.52                 48.0   \n",
       "4          62.0   208.86            3442.50                 13.0   \n",
       "\n",
       "   flag_on_final activo  tpv_nulo  gmv_nulo  cluster  sub_cluster  \n",
       "0              1      1         0         0        2            3  \n",
       "1              1      1         0         0        2            0  \n",
       "2              1      1         0         0        2            0  \n",
       "3              1      1         0         0        2            1  \n",
       "4              1      1         0         0        2            3  \n",
       "\n",
       "[5 rows x 28 columns]"
      ]
     },
     "execution_count": 122,
     "metadata": {},
     "output_type": "execute_result"
    }
   ],
   "source": [
    "df_sub2_fin.head(5)"
   ]
  },
  {
   "cell_type": "code",
   "execution_count": 123,
   "metadata": {},
   "outputs": [
    {
     "data": {
      "text/plain": [
       "Index(['CUS_CUST_ID', 'registration_date', 'sit_site_id', 'cus_nickname',\n",
       "       'flag_ca', 'flag_mia', 'flag_up', 'flag_trusted_seller',\n",
       "       'flag_gmv_high', 'flag_gmv_low', 'flag_tpv_high', 'flag_tpv_low',\n",
       "       'flag_repu_ml', 'flag_repu_glg', 'flag_repu_yor', 'last_transaction',\n",
       "       'tpv_approved', 'gmv_not_refund', 'count_orders', 'cashout',\n",
       "       'gmv_claims_seller', 'count_claims_seller', 'flag_on_final', 'activo',\n",
       "       'tpv_nulo', 'gmv_nulo', 'cluster', 'sub_cluster'],\n",
       "      dtype='object')"
      ]
     },
     "execution_count": 123,
     "metadata": {},
     "output_type": "execute_result"
    }
   ],
   "source": [
    "df_sub2_fin.columns"
   ]
  },
  {
   "cell_type": "markdown",
   "metadata": {},
   "source": [
    "### Grafico los centroides"
   ]
  },
  {
   "cell_type": "code",
   "execution_count": 124,
   "metadata": {},
   "outputs": [],
   "source": [
    "centers = np.array(model.cluster_centers_)"
   ]
  },
  {
   "cell_type": "code",
   "execution_count": 125,
   "metadata": {},
   "outputs": [
    {
     "data": {
      "text/plain": [
       "<matplotlib.collections.PathCollection at 0x7ff831344970>"
      ]
     },
     "execution_count": 125,
     "metadata": {},
     "output_type": "execute_result"
    },
    {
     "data": {
      "image/png": "[encoded data removed]",
      "text/plain": [
       "<Figure size 432x288 with 1 Axes>"
      ]
     },
     "metadata": {},
     "output_type": "display_data"
    }
   ],
   "source": [
    "plt.scatter(centers[:,0], centers[:,1], marker=\"x\", color='r')"
   ]
  },
  {
   "cell_type": "code",
   "execution_count": 126,
   "metadata": {},
   "outputs": [
    {
     "data": {
      "text/plain": [
       "array([3, 0, 0, ..., 0, 3, 1], dtype=int32)"
      ]
     },
     "execution_count": 126,
     "metadata": {},
     "output_type": "execute_result"
    }
   ],
   "source": [
    "model.labels_"
   ]
  },
  {
   "cell_type": "code",
   "execution_count": 127,
   "metadata": {},
   "outputs": [],
   "source": [
    "df_sub2_fin.set_index('CUS_CUST_ID', inplace = True)"
   ]
  },
  {
   "cell_type": "code",
   "execution_count": 128,
   "metadata": {},
   "outputs": [
    {
     "name": "stdout",
     "output_type": "stream",
     "text": [
      "[[ 4.64668094e-01  1.30620985e-01  2.01284797e-01  6.10278373e-01\n",
      "   4.28265525e-03  9.93576017e-01  1.71306210e-01  7.94432548e-01\n",
      "   5.55111512e-16  1.94289029e-16  9.74304069e-01  1.00000000e+00\n",
      "   9.95717345e-01  3.42612420e-02  2.14132762e-03]\n",
      " [ 6.33781764e-01  9.25261584e-01  4.21524664e-01  9.92526158e-01\n",
      "  -2.60208521e-18  9.89536622e-01  1.00000000e+00 -1.11022302e-16\n",
      "   9.10313901e-01  1.11022302e-16  8.37070254e-02  1.00000000e+00\n",
      "   1.00000000e+00  1.73472348e-18  1.04633782e-02]\n",
      " [ 4.46254072e-01  8.72964169e-01  1.92182410e-01  8.56677524e-01\n",
      "   3.25732899e-03  9.54397394e-01  2.41042345e-01  7.39413681e-01\n",
      "   2.22044605e-16  9.51140065e-01  1.66533454e-16  1.00000000e+00\n",
      "   9.93485342e-01  1.95439739e-02  4.23452769e-02]\n",
      " [ 8.16326531e-01  8.36734694e-01  2.85714286e-01  9.79591837e-01\n",
      "   4.33680869e-19  1.00000000e+00 -2.77555756e-16  1.00000000e+00\n",
      "   9.87755102e-01  1.11022302e-16  1.66533454e-16  1.00000000e+00\n",
      "   1.00000000e+00  0.00000000e+00  5.20417043e-18]]\n"
     ]
    }
   ],
   "source": [
    "print(model.cluster_centers_)"
   ]
  },
  {
   "cell_type": "markdown",
   "metadata": {},
   "source": [
    "## Analysis The Sub Clusters"
   ]
  },
  {
   "cell_type": "code",
   "execution_count": 129,
   "metadata": {},
   "outputs": [],
   "source": [
    "df_s0=df_sub2_fin[df_sub2_fin['sub_cluster']==0]\n",
    "df_s1=df_sub2_fin[df_sub2_fin['sub_cluster']==1]\n",
    "df_s2=df_sub2_fin[df_sub2_fin['sub_cluster']==2]\n",
    "df_s3=df_sub2_fin[df_sub2_fin['sub_cluster']==3]"
   ]
  },
  {
   "cell_type": "markdown",
   "metadata": {},
   "source": [
    "### Size of de sub clusters"
   ]
  },
  {
   "cell_type": "code",
   "execution_count": 130,
   "metadata": {},
   "outputs": [
    {
     "data": {
      "text/plain": [
       "1    669\n",
       "0    467\n",
       "2    307\n",
       "3    245\n",
       "Name: sub_cluster, dtype: int64"
      ]
     },
     "execution_count": 130,
     "metadata": {},
     "output_type": "execute_result"
    }
   ],
   "source": [
    "df_sub2_fin['sub_cluster'].value_counts()"
   ]
  },
  {
   "cell_type": "markdown",
   "metadata": {},
   "source": [
    "### Distribution of the active users"
   ]
  },
  {
   "cell_type": "code",
   "execution_count": 131,
   "metadata": {},
   "outputs": [
    {
     "data": {
      "text/plain": [
       "1    1684\n",
       "0       4\n",
       "Name: activo, dtype: int64"
      ]
     },
     "execution_count": 131,
     "metadata": {},
     "output_type": "execute_result"
    }
   ],
   "source": [
    "df_sub2_fin['activo'].value_counts()"
   ]
  },
  {
   "cell_type": "code",
   "execution_count": 132,
   "metadata": {},
   "outputs": [
    {
     "data": {
      "text/html": [
       "<div>\n",
       "<style scoped>\n",
       "    .dataframe tbody tr th:only-of-type {\n",
       "        vertical-align: middle;\n",
       "    }\n",
       "\n",
       "    .dataframe tbody tr th {\n",
       "        vertical-align: top;\n",
       "    }\n",
       "\n",
       "    .dataframe thead th {\n",
       "        text-align: right;\n",
       "    }\n",
       "</style>\n",
       "<table border=\"1\" class=\"dataframe\">\n",
       "  <thead>\n",
       "    <tr style=\"text-align: right;\">\n",
       "      <th>activo</th>\n",
       "      <th>0</th>\n",
       "      <th>1</th>\n",
       "    </tr>\n",
       "    <tr>\n",
       "      <th>sub_cluster</th>\n",
       "      <th></th>\n",
       "      <th></th>\n",
       "    </tr>\n",
       "  </thead>\n",
       "  <tbody>\n",
       "    <tr>\n",
       "      <th>0</th>\n",
       "      <td>2.0</td>\n",
       "      <td>465.0</td>\n",
       "    </tr>\n",
       "    <tr>\n",
       "      <th>1</th>\n",
       "      <td>0.0</td>\n",
       "      <td>669.0</td>\n",
       "    </tr>\n",
       "    <tr>\n",
       "      <th>2</th>\n",
       "      <td>2.0</td>\n",
       "      <td>305.0</td>\n",
       "    </tr>\n",
       "    <tr>\n",
       "      <th>3</th>\n",
       "      <td>0.0</td>\n",
       "      <td>245.0</td>\n",
       "    </tr>\n",
       "  </tbody>\n",
       "</table>\n",
       "</div>"
      ],
      "text/plain": [
       "activo         0      1\n",
       "sub_cluster            \n",
       "0            2.0  465.0\n",
       "1            0.0  669.0\n",
       "2            2.0  305.0\n",
       "3            0.0  245.0"
      ]
     },
     "execution_count": 132,
     "metadata": {},
     "output_type": "execute_result"
    }
   ],
   "source": [
    "sub2 = df_sub2_fin.groupby(['sub_cluster','activo']).size()\n",
    "sub2 = sub2.reset_index()\n",
    "sub2 = pd.pivot_table(sub2,columns='activo',index='sub_cluster',values=0)\n",
    "sub2.fillna(0, inplace=True)\n",
    "sub2"
   ]
  },
  {
   "cell_type": "markdown",
   "metadata": {},
   "source": [
    "*Tenemos solo 4 usuarios sin actividad en los ultimos 90 dias. Dos de ellos estan en el sub cluster 0 y otros dos en el sub cluster 1*"
   ]
  },
  {
   "cell_type": "markdown",
   "metadata": {},
   "source": [
    "### Distribution Trusted Sellers"
   ]
  },
  {
   "cell_type": "code",
   "execution_count": 133,
   "metadata": {},
   "outputs": [
    {
     "data": {
      "text/plain": [
       "1.0    1452\n",
       "0.0     236\n",
       "Name: flag_trusted_seller, dtype: int64"
      ]
     },
     "execution_count": 133,
     "metadata": {},
     "output_type": "execute_result"
    }
   ],
   "source": [
    "df_sub2_fin['flag_trusted_seller'].value_counts()"
   ]
  },
  {
   "cell_type": "code",
   "execution_count": 134,
   "metadata": {},
   "outputs": [
    {
     "data": {
      "text/html": [
       "<div>\n",
       "<style scoped>\n",
       "    .dataframe tbody tr th:only-of-type {\n",
       "        vertical-align: middle;\n",
       "    }\n",
       "\n",
       "    .dataframe tbody tr th {\n",
       "        vertical-align: top;\n",
       "    }\n",
       "\n",
       "    .dataframe thead th {\n",
       "        text-align: right;\n",
       "    }\n",
       "</style>\n",
       "<table border=\"1\" class=\"dataframe\">\n",
       "  <thead>\n",
       "    <tr style=\"text-align: right;\">\n",
       "      <th>flag_trusted_seller</th>\n",
       "      <th>0.0</th>\n",
       "      <th>1.0</th>\n",
       "    </tr>\n",
       "    <tr>\n",
       "      <th>sub_cluster</th>\n",
       "      <th></th>\n",
       "      <th></th>\n",
       "    </tr>\n",
       "  </thead>\n",
       "  <tbody>\n",
       "    <tr>\n",
       "      <th>0</th>\n",
       "      <td>182</td>\n",
       "      <td>285</td>\n",
       "    </tr>\n",
       "    <tr>\n",
       "      <th>1</th>\n",
       "      <td>5</td>\n",
       "      <td>664</td>\n",
       "    </tr>\n",
       "    <tr>\n",
       "      <th>2</th>\n",
       "      <td>44</td>\n",
       "      <td>263</td>\n",
       "    </tr>\n",
       "    <tr>\n",
       "      <th>3</th>\n",
       "      <td>5</td>\n",
       "      <td>240</td>\n",
       "    </tr>\n",
       "  </tbody>\n",
       "</table>\n",
       "</div>"
      ],
      "text/plain": [
       "flag_trusted_seller  0.0  1.0\n",
       "sub_cluster                  \n",
       "0                    182  285\n",
       "1                      5  664\n",
       "2                     44  263\n",
       "3                      5  240"
      ]
     },
     "execution_count": 134,
     "metadata": {},
     "output_type": "execute_result"
    }
   ],
   "source": [
    "sub2 = df_sub2_fin.groupby(['sub_cluster','flag_trusted_seller']).size()\n",
    "sub2 = sub2.reset_index()\n",
    "sub2 = pd.pivot_table(sub2,columns='flag_trusted_seller',index='sub_cluster',values=0)\n",
    "sub2.fillna(0, inplace=True)\n",
    "sub2"
   ]
  },
  {
   "cell_type": "markdown",
   "metadata": {},
   "source": [
    "*Los sub cluster 2 y 3 contienen practicamente solo tusted sellers*"
   ]
  },
  {
   "cell_type": "markdown",
   "metadata": {},
   "source": [
    "### Distribution UP"
   ]
  },
  {
   "cell_type": "code",
   "execution_count": 135,
   "metadata": {},
   "outputs": [
    {
     "data": {
      "text/plain": [
       "0.0    1183\n",
       "1.0     505\n",
       "Name: flag_up, dtype: int64"
      ]
     },
     "execution_count": 135,
     "metadata": {},
     "output_type": "execute_result"
    }
   ],
   "source": [
    "df_sub2_fin['flag_up'].value_counts()"
   ]
  },
  {
   "cell_type": "code",
   "execution_count": 136,
   "metadata": {},
   "outputs": [
    {
     "data": {
      "text/html": [
       "<div>\n",
       "<style scoped>\n",
       "    .dataframe tbody tr th:only-of-type {\n",
       "        vertical-align: middle;\n",
       "    }\n",
       "\n",
       "    .dataframe tbody tr th {\n",
       "        vertical-align: top;\n",
       "    }\n",
       "\n",
       "    .dataframe thead th {\n",
       "        text-align: right;\n",
       "    }\n",
       "</style>\n",
       "<table border=\"1\" class=\"dataframe\">\n",
       "  <thead>\n",
       "    <tr style=\"text-align: right;\">\n",
       "      <th>flag_up</th>\n",
       "      <th>0.0</th>\n",
       "      <th>1.0</th>\n",
       "    </tr>\n",
       "    <tr>\n",
       "      <th>sub_cluster</th>\n",
       "      <th></th>\n",
       "      <th></th>\n",
       "    </tr>\n",
       "  </thead>\n",
       "  <tbody>\n",
       "    <tr>\n",
       "      <th>0</th>\n",
       "      <td>373</td>\n",
       "      <td>94</td>\n",
       "    </tr>\n",
       "    <tr>\n",
       "      <th>1</th>\n",
       "      <td>387</td>\n",
       "      <td>282</td>\n",
       "    </tr>\n",
       "    <tr>\n",
       "      <th>2</th>\n",
       "      <td>248</td>\n",
       "      <td>59</td>\n",
       "    </tr>\n",
       "    <tr>\n",
       "      <th>3</th>\n",
       "      <td>175</td>\n",
       "      <td>70</td>\n",
       "    </tr>\n",
       "  </tbody>\n",
       "</table>\n",
       "</div>"
      ],
      "text/plain": [
       "flag_up      0.0  1.0\n",
       "sub_cluster          \n",
       "0            373   94\n",
       "1            387  282\n",
       "2            248   59\n",
       "3            175   70"
      ]
     },
     "execution_count": 136,
     "metadata": {},
     "output_type": "execute_result"
    }
   ],
   "source": [
    "sub2 = df_sub2_fin.groupby(['sub_cluster','flag_up']).size()\n",
    "sub2 = sub2.reset_index()\n",
    "sub2 = pd.pivot_table(sub2,columns='flag_up',index='sub_cluster',values=0)\n",
    "sub2.fillna(0, inplace=True)\n",
    "sub2"
   ]
  },
  {
   "cell_type": "markdown",
   "metadata": {},
   "source": [
    "*En el sub cluster 2 se encuentran mas de la mnitad de los sellers con tag UP*"
   ]
  },
  {
   "cell_type": "markdown",
   "metadata": {},
   "source": [
    "### Distribution CA"
   ]
  },
  {
   "cell_type": "code",
   "execution_count": 137,
   "metadata": {},
   "outputs": [
    {
     "data": {
      "text/plain": [
       "1.0    978\n",
       "0.0    710\n",
       "Name: flag_ca, dtype: int64"
      ]
     },
     "execution_count": 137,
     "metadata": {},
     "output_type": "execute_result"
    }
   ],
   "source": [
    "df_sub2_fin['flag_ca'].value_counts()"
   ]
  },
  {
   "cell_type": "code",
   "execution_count": 139,
   "metadata": {},
   "outputs": [
    {
     "data": {
      "text/html": [
       "<div>\n",
       "<style scoped>\n",
       "    .dataframe tbody tr th:only-of-type {\n",
       "        vertical-align: middle;\n",
       "    }\n",
       "\n",
       "    .dataframe tbody tr th {\n",
       "        vertical-align: top;\n",
       "    }\n",
       "\n",
       "    .dataframe thead th {\n",
       "        text-align: right;\n",
       "    }\n",
       "</style>\n",
       "<table border=\"1\" class=\"dataframe\">\n",
       "  <thead>\n",
       "    <tr style=\"text-align: right;\">\n",
       "      <th>flag_ca</th>\n",
       "      <th>0.0</th>\n",
       "      <th>1.0</th>\n",
       "    </tr>\n",
       "    <tr>\n",
       "      <th>sub_cluster</th>\n",
       "      <th></th>\n",
       "      <th></th>\n",
       "    </tr>\n",
       "  </thead>\n",
       "  <tbody>\n",
       "    <tr>\n",
       "      <th>0</th>\n",
       "      <td>250</td>\n",
       "      <td>217</td>\n",
       "    </tr>\n",
       "    <tr>\n",
       "      <th>1</th>\n",
       "      <td>245</td>\n",
       "      <td>424</td>\n",
       "    </tr>\n",
       "    <tr>\n",
       "      <th>2</th>\n",
       "      <td>170</td>\n",
       "      <td>137</td>\n",
       "    </tr>\n",
       "    <tr>\n",
       "      <th>3</th>\n",
       "      <td>45</td>\n",
       "      <td>200</td>\n",
       "    </tr>\n",
       "  </tbody>\n",
       "</table>\n",
       "</div>"
      ],
      "text/plain": [
       "flag_ca      0.0  1.0\n",
       "sub_cluster          \n",
       "0            250  217\n",
       "1            245  424\n",
       "2            170  137\n",
       "3             45  200"
      ]
     },
     "execution_count": 139,
     "metadata": {},
     "output_type": "execute_result"
    }
   ],
   "source": [
    "sub2 = df_sub2_fin.groupby(['sub_cluster','flag_ca']).size()\n",
    "sub2 = sub2.reset_index()\n",
    "sub2 = pd.pivot_table(sub2,columns='flag_ca',index='sub_cluster',values=0)\n",
    "sub2.fillna(0, inplace=True)\n",
    "sub2"
   ]
  },
  {
   "cell_type": "markdown",
   "metadata": {},
   "source": [
    "### Distribution Adelantos"
   ]
  },
  {
   "cell_type": "code",
   "execution_count": 141,
   "metadata": {},
   "outputs": [
    {
     "data": {
      "text/plain": [
       "1.0    1153\n",
       "0.0     535\n",
       "Name: flag_mia, dtype: int64"
      ]
     },
     "execution_count": 141,
     "metadata": {},
     "output_type": "execute_result"
    }
   ],
   "source": [
    "df_sub2_fin['flag_mia'].value_counts()"
   ]
  },
  {
   "cell_type": "code",
   "execution_count": 142,
   "metadata": {},
   "outputs": [
    {
     "data": {
      "text/html": [
       "<div>\n",
       "<style scoped>\n",
       "    .dataframe tbody tr th:only-of-type {\n",
       "        vertical-align: middle;\n",
       "    }\n",
       "\n",
       "    .dataframe tbody tr th {\n",
       "        vertical-align: top;\n",
       "    }\n",
       "\n",
       "    .dataframe thead th {\n",
       "        text-align: right;\n",
       "    }\n",
       "</style>\n",
       "<table border=\"1\" class=\"dataframe\">\n",
       "  <thead>\n",
       "    <tr style=\"text-align: right;\">\n",
       "      <th>flag_mia</th>\n",
       "      <th>0.0</th>\n",
       "      <th>1.0</th>\n",
       "    </tr>\n",
       "    <tr>\n",
       "      <th>sub_cluster</th>\n",
       "      <th></th>\n",
       "      <th></th>\n",
       "    </tr>\n",
       "  </thead>\n",
       "  <tbody>\n",
       "    <tr>\n",
       "      <th>0</th>\n",
       "      <td>406</td>\n",
       "      <td>61</td>\n",
       "    </tr>\n",
       "    <tr>\n",
       "      <th>1</th>\n",
       "      <td>50</td>\n",
       "      <td>619</td>\n",
       "    </tr>\n",
       "    <tr>\n",
       "      <th>2</th>\n",
       "      <td>39</td>\n",
       "      <td>268</td>\n",
       "    </tr>\n",
       "    <tr>\n",
       "      <th>3</th>\n",
       "      <td>40</td>\n",
       "      <td>205</td>\n",
       "    </tr>\n",
       "  </tbody>\n",
       "</table>\n",
       "</div>"
      ],
      "text/plain": [
       "flag_mia     0.0  1.0\n",
       "sub_cluster          \n",
       "0            406   61\n",
       "1             50  619\n",
       "2             39  268\n",
       "3             40  205"
      ]
     },
     "execution_count": 142,
     "metadata": {},
     "output_type": "execute_result"
    }
   ],
   "source": [
    "sub2 = df_sub2_fin.groupby(['sub_cluster','flag_mia']).size()\n",
    "sub2 = sub2.reset_index()\n",
    "sub2 = pd.pivot_table(sub2,columns='flag_mia',index='sub_cluster',values=0)\n",
    "sub2.fillna(0, inplace=True)\n",
    "sub2"
   ]
  },
  {
   "cell_type": "markdown",
   "metadata": {},
   "source": [
    "### Distribution TPV High"
   ]
  },
  {
   "cell_type": "code",
   "execution_count": 143,
   "metadata": {},
   "outputs": [
    {
     "data": {
      "text/plain": [
       "0.0    865\n",
       "1.0    823\n",
       "Name: flag_tpv_high, dtype: int64"
      ]
     },
     "execution_count": 143,
     "metadata": {},
     "output_type": "execute_result"
    }
   ],
   "source": [
    "df_sub2_fin['flag_tpv_high'].value_counts()"
   ]
  },
  {
   "cell_type": "code",
   "execution_count": 145,
   "metadata": {},
   "outputs": [
    {
     "data": {
      "text/html": [
       "<div>\n",
       "<style scoped>\n",
       "    .dataframe tbody tr th:only-of-type {\n",
       "        vertical-align: middle;\n",
       "    }\n",
       "\n",
       "    .dataframe tbody tr th {\n",
       "        vertical-align: top;\n",
       "    }\n",
       "\n",
       "    .dataframe thead th {\n",
       "        text-align: right;\n",
       "    }\n",
       "</style>\n",
       "<table border=\"1\" class=\"dataframe\">\n",
       "  <thead>\n",
       "    <tr style=\"text-align: right;\">\n",
       "      <th>flag_tpv_high</th>\n",
       "      <th>0.0</th>\n",
       "      <th>1.0</th>\n",
       "    </tr>\n",
       "    <tr>\n",
       "      <th>sub_cluster</th>\n",
       "      <th></th>\n",
       "      <th></th>\n",
       "    </tr>\n",
       "  </thead>\n",
       "  <tbody>\n",
       "    <tr>\n",
       "      <th>0</th>\n",
       "      <td>387.0</td>\n",
       "      <td>80.0</td>\n",
       "    </tr>\n",
       "    <tr>\n",
       "      <th>1</th>\n",
       "      <td>0.0</td>\n",
       "      <td>669.0</td>\n",
       "    </tr>\n",
       "    <tr>\n",
       "      <th>2</th>\n",
       "      <td>233.0</td>\n",
       "      <td>74.0</td>\n",
       "    </tr>\n",
       "    <tr>\n",
       "      <th>3</th>\n",
       "      <td>245.0</td>\n",
       "      <td>0.0</td>\n",
       "    </tr>\n",
       "  </tbody>\n",
       "</table>\n",
       "</div>"
      ],
      "text/plain": [
       "flag_tpv_high    0.0    1.0\n",
       "sub_cluster                \n",
       "0              387.0   80.0\n",
       "1                0.0  669.0\n",
       "2              233.0   74.0\n",
       "3              245.0    0.0"
      ]
     },
     "execution_count": 145,
     "metadata": {},
     "output_type": "execute_result"
    }
   ],
   "source": [
    "sub2 = df_sub2_fin.groupby(['sub_cluster','flag_tpv_high']).size()\n",
    "sub2 = sub2.reset_index()\n",
    "sub2 = pd.pivot_table(sub2,columns='flag_tpv_high',index='sub_cluster',values=0)\n",
    "sub2.fillna(0, inplace=True)\n",
    "sub2"
   ]
  },
  {
   "cell_type": "markdown",
   "metadata": {},
   "source": [
    "*El 100% de los users del sub cluster 2 son de TPV HIGH.*"
   ]
  },
  {
   "cell_type": "markdown",
   "metadata": {},
   "source": [
    "### Distribution GMV High"
   ]
  },
  {
   "cell_type": "code",
   "execution_count": 146,
   "metadata": {},
   "outputs": [
    {
     "data": {
      "text/plain": [
       "0.0    1685\n",
       "1.0       3\n",
       "Name: flag_gmv_high, dtype: int64"
      ]
     },
     "execution_count": 146,
     "metadata": {},
     "output_type": "execute_result"
    }
   ],
   "source": [
    "df_sub2_fin['flag_gmv_high'].value_counts()"
   ]
  },
  {
   "cell_type": "code",
   "execution_count": 147,
   "metadata": {},
   "outputs": [
    {
     "data": {
      "text/html": [
       "<div>\n",
       "<style scoped>\n",
       "    .dataframe tbody tr th:only-of-type {\n",
       "        vertical-align: middle;\n",
       "    }\n",
       "\n",
       "    .dataframe tbody tr th {\n",
       "        vertical-align: top;\n",
       "    }\n",
       "\n",
       "    .dataframe thead th {\n",
       "        text-align: right;\n",
       "    }\n",
       "</style>\n",
       "<table border=\"1\" class=\"dataframe\">\n",
       "  <thead>\n",
       "    <tr style=\"text-align: right;\">\n",
       "      <th>flag_gmv_high</th>\n",
       "      <th>0.0</th>\n",
       "      <th>1.0</th>\n",
       "    </tr>\n",
       "    <tr>\n",
       "      <th>sub_cluster</th>\n",
       "      <th></th>\n",
       "      <th></th>\n",
       "    </tr>\n",
       "  </thead>\n",
       "  <tbody>\n",
       "    <tr>\n",
       "      <th>0</th>\n",
       "      <td>465.0</td>\n",
       "      <td>2.0</td>\n",
       "    </tr>\n",
       "    <tr>\n",
       "      <th>1</th>\n",
       "      <td>669.0</td>\n",
       "      <td>0.0</td>\n",
       "    </tr>\n",
       "    <tr>\n",
       "      <th>2</th>\n",
       "      <td>306.0</td>\n",
       "      <td>1.0</td>\n",
       "    </tr>\n",
       "    <tr>\n",
       "      <th>3</th>\n",
       "      <td>245.0</td>\n",
       "      <td>0.0</td>\n",
       "    </tr>\n",
       "  </tbody>\n",
       "</table>\n",
       "</div>"
      ],
      "text/plain": [
       "flag_gmv_high    0.0  1.0\n",
       "sub_cluster              \n",
       "0              465.0  2.0\n",
       "1              669.0  0.0\n",
       "2              306.0  1.0\n",
       "3              245.0  0.0"
      ]
     },
     "execution_count": 147,
     "metadata": {},
     "output_type": "execute_result"
    }
   ],
   "source": [
    "sub2 = df_sub2_fin.groupby(['sub_cluster','flag_gmv_high']).size()\n",
    "sub2 = sub2.reset_index()\n",
    "sub2 = pd.pivot_table(sub2,columns='flag_gmv_high',index='sub_cluster',values=0)\n",
    "sub2.fillna(0, inplace=True)\n",
    "sub2"
   ]
  },
  {
   "cell_type": "markdown",
   "metadata": {
    "jupyter": {
     "outputs_hidden": true
    }
   },
   "source": [
    "*Practicamente tdoos son de GMV Low, esto nos indica que en el cluster 0 los users son que tenemos son chicos dentro del ON*\n",
    "*Auneque todos son de GMV Low, muchos de los sellers son de TPV High. Esto nos quiere decir que muchos de estos usuarios aunque no sean grandes en el ON si lo son para el OFF*"
   ]
  },
  {
   "cell_type": "markdown",
   "metadata": {},
   "source": [
    "### Behaviour GMV y Cashout"
   ]
  },
  {
   "cell_type": "markdown",
   "metadata": {},
   "source": [
    "#### Cashout"
   ]
  },
  {
   "cell_type": "code",
   "execution_count": 148,
   "metadata": {},
   "outputs": [
    {
     "data": {
      "text/html": [
       "<div>\n",
       "<style scoped>\n",
       "    .dataframe tbody tr th:only-of-type {\n",
       "        vertical-align: middle;\n",
       "    }\n",
       "\n",
       "    .dataframe tbody tr th {\n",
       "        vertical-align: top;\n",
       "    }\n",
       "\n",
       "    .dataframe thead th {\n",
       "        text-align: right;\n",
       "    }\n",
       "</style>\n",
       "<table border=\"1\" class=\"dataframe\">\n",
       "  <thead>\n",
       "    <tr style=\"text-align: right;\">\n",
       "      <th></th>\n",
       "      <th>cashout</th>\n",
       "    </tr>\n",
       "    <tr>\n",
       "      <th>sub_cluster</th>\n",
       "      <th></th>\n",
       "    </tr>\n",
       "  </thead>\n",
       "  <tbody>\n",
       "    <tr>\n",
       "      <th>0</th>\n",
       "      <td>33.311306</td>\n",
       "    </tr>\n",
       "    <tr>\n",
       "      <th>1</th>\n",
       "      <td>120.739776</td>\n",
       "    </tr>\n",
       "    <tr>\n",
       "      <th>2</th>\n",
       "      <td>16.045277</td>\n",
       "    </tr>\n",
       "    <tr>\n",
       "      <th>3</th>\n",
       "      <td>76.898367</td>\n",
       "    </tr>\n",
       "  </tbody>\n",
       "</table>\n",
       "</div>"
      ],
      "text/plain": [
       "                cashout\n",
       "sub_cluster            \n",
       "0             33.311306\n",
       "1            120.739776\n",
       "2             16.045277\n",
       "3             76.898367"
      ]
     },
     "execution_count": 148,
     "metadata": {},
     "output_type": "execute_result"
    }
   ],
   "source": [
    "gra = df_sub2_fin[['sub_cluster','cashout']].groupby('sub_cluster').mean()\n",
    "gra"
   ]
  },
  {
   "cell_type": "code",
   "execution_count": 149,
   "metadata": {},
   "outputs": [
    {
     "data": {
      "text/plain": [
       "<AxesSubplot:title={'center':'Media CashOut'}, xlabel='sub_cluster'>"
      ]
     },
     "execution_count": 149,
     "metadata": {},
     "output_type": "execute_result"
    },
    {
     "data": {
      "image/png": "[encoded data removed]",
      "text/plain": [
       "<Figure size 432x288 with 1 Axes>"
      ]
     },
     "metadata": {},
     "output_type": "display_data"
    }
   ],
   "source": [
    "gra.plot(kind = 'bar',\n",
    "            title = 'Media CashOut')"
   ]
  },
  {
   "cell_type": "markdown",
   "metadata": {},
   "source": [
    "#### GMV"
   ]
  },
  {
   "cell_type": "code",
   "execution_count": 150,
   "metadata": {},
   "outputs": [
    {
     "data": {
      "text/html": [
       "<div>\n",
       "<style scoped>\n",
       "    .dataframe tbody tr th:only-of-type {\n",
       "        vertical-align: middle;\n",
       "    }\n",
       "\n",
       "    .dataframe tbody tr th {\n",
       "        vertical-align: top;\n",
       "    }\n",
       "\n",
       "    .dataframe thead th {\n",
       "        text-align: right;\n",
       "    }\n",
       "</style>\n",
       "<table border=\"1\" class=\"dataframe\">\n",
       "  <thead>\n",
       "    <tr style=\"text-align: right;\">\n",
       "      <th></th>\n",
       "      <th>gmv_not_refund</th>\n",
       "    </tr>\n",
       "    <tr>\n",
       "      <th>sub_cluster</th>\n",
       "      <th></th>\n",
       "    </tr>\n",
       "  </thead>\n",
       "  <tbody>\n",
       "    <tr>\n",
       "      <th>0</th>\n",
       "      <td>6834.708822</td>\n",
       "    </tr>\n",
       "    <tr>\n",
       "      <th>1</th>\n",
       "      <td>34545.612466</td>\n",
       "    </tr>\n",
       "    <tr>\n",
       "      <th>2</th>\n",
       "      <td>4921.021987</td>\n",
       "    </tr>\n",
       "    <tr>\n",
       "      <th>3</th>\n",
       "      <td>14149.900857</td>\n",
       "    </tr>\n",
       "  </tbody>\n",
       "</table>\n",
       "</div>"
      ],
      "text/plain": [
       "             gmv_not_refund\n",
       "sub_cluster                \n",
       "0               6834.708822\n",
       "1              34545.612466\n",
       "2               4921.021987\n",
       "3              14149.900857"
      ]
     },
     "execution_count": 150,
     "metadata": {},
     "output_type": "execute_result"
    }
   ],
   "source": [
    "gra = df_sub2_fin[['sub_cluster','gmv_not_refund']].groupby('sub_cluster').mean()\n",
    "gra"
   ]
  },
  {
   "cell_type": "code",
   "execution_count": 151,
   "metadata": {},
   "outputs": [
    {
     "data": {
      "text/plain": [
       "<AxesSubplot:title={'center':'Media GMV'}, xlabel='sub_cluster'>"
      ]
     },
     "execution_count": 151,
     "metadata": {},
     "output_type": "execute_result"
    },
    {
     "data": {
      "image/png": "[encoded data removed]",
      "text/plain": [
       "<Figure size 432x288 with 1 Axes>"
      ]
     },
     "metadata": {},
     "output_type": "display_data"
    }
   ],
   "source": [
    "gra.plot(kind = 'bar',\n",
    "            title = 'Media GMV')"
   ]
  },
  {
   "cell_type": "markdown",
   "metadata": {},
   "source": [
    "#### Ratio CO / GMV"
   ]
  },
  {
   "cell_type": "code",
   "execution_count": 152,
   "metadata": {},
   "outputs": [
    {
     "data": {
      "text/html": [
       "<div>\n",
       "<style scoped>\n",
       "    .dataframe tbody tr th:only-of-type {\n",
       "        vertical-align: middle;\n",
       "    }\n",
       "\n",
       "    .dataframe tbody tr th {\n",
       "        vertical-align: top;\n",
       "    }\n",
       "\n",
       "    .dataframe thead th {\n",
       "        text-align: right;\n",
       "    }\n",
       "</style>\n",
       "<table border=\"1\" class=\"dataframe\">\n",
       "  <thead>\n",
       "    <tr style=\"text-align: right;\">\n",
       "      <th></th>\n",
       "      <th>gmv_not_refund</th>\n",
       "      <th>cashout</th>\n",
       "    </tr>\n",
       "    <tr>\n",
       "      <th>sub_cluster</th>\n",
       "      <th></th>\n",
       "      <th></th>\n",
       "    </tr>\n",
       "  </thead>\n",
       "  <tbody>\n",
       "    <tr>\n",
       "      <th>0</th>\n",
       "      <td>3191809.02</td>\n",
       "      <td>15556.38</td>\n",
       "    </tr>\n",
       "    <tr>\n",
       "      <th>1</th>\n",
       "      <td>23111014.74</td>\n",
       "      <td>80774.91</td>\n",
       "    </tr>\n",
       "    <tr>\n",
       "      <th>2</th>\n",
       "      <td>1510753.75</td>\n",
       "      <td>4925.90</td>\n",
       "    </tr>\n",
       "    <tr>\n",
       "      <th>3</th>\n",
       "      <td>3466725.71</td>\n",
       "      <td>18840.10</td>\n",
       "    </tr>\n",
       "  </tbody>\n",
       "</table>\n",
       "</div>"
      ],
      "text/plain": [
       "             gmv_not_refund   cashout\n",
       "sub_cluster                          \n",
       "0                3191809.02  15556.38\n",
       "1               23111014.74  80774.91\n",
       "2                1510753.75   4925.90\n",
       "3                3466725.71  18840.10"
      ]
     },
     "execution_count": 152,
     "metadata": {},
     "output_type": "execute_result"
    }
   ],
   "source": [
    "gra = df_sub2_fin[['sub_cluster','gmv_not_refund','cashout']].groupby('sub_cluster').sum()\n",
    "gra"
   ]
  },
  {
   "cell_type": "code",
   "execution_count": 153,
   "metadata": {},
   "outputs": [
    {
     "data": {
      "text/html": [
       "<div>\n",
       "<style scoped>\n",
       "    .dataframe tbody tr th:only-of-type {\n",
       "        vertical-align: middle;\n",
       "    }\n",
       "\n",
       "    .dataframe tbody tr th {\n",
       "        vertical-align: top;\n",
       "    }\n",
       "\n",
       "    .dataframe thead th {\n",
       "        text-align: right;\n",
       "    }\n",
       "</style>\n",
       "<table border=\"1\" class=\"dataframe\">\n",
       "  <thead>\n",
       "    <tr style=\"text-align: right;\">\n",
       "      <th></th>\n",
       "      <th>gmv_not_refund</th>\n",
       "      <th>cashout</th>\n",
       "      <th>ratio</th>\n",
       "    </tr>\n",
       "    <tr>\n",
       "      <th>sub_cluster</th>\n",
       "      <th></th>\n",
       "      <th></th>\n",
       "      <th></th>\n",
       "    </tr>\n",
       "  </thead>\n",
       "  <tbody>\n",
       "    <tr>\n",
       "      <th>0</th>\n",
       "      <td>3191809.02</td>\n",
       "      <td>15556.38</td>\n",
       "      <td>0.487384</td>\n",
       "    </tr>\n",
       "    <tr>\n",
       "      <th>1</th>\n",
       "      <td>23111014.74</td>\n",
       "      <td>80774.91</td>\n",
       "      <td>0.349508</td>\n",
       "    </tr>\n",
       "    <tr>\n",
       "      <th>2</th>\n",
       "      <td>1510753.75</td>\n",
       "      <td>4925.90</td>\n",
       "      <td>0.326056</td>\n",
       "    </tr>\n",
       "    <tr>\n",
       "      <th>3</th>\n",
       "      <td>3466725.71</td>\n",
       "      <td>18840.10</td>\n",
       "      <td>0.543455</td>\n",
       "    </tr>\n",
       "  </tbody>\n",
       "</table>\n",
       "</div>"
      ],
      "text/plain": [
       "             gmv_not_refund   cashout     ratio\n",
       "sub_cluster                                    \n",
       "0                3191809.02  15556.38  0.487384\n",
       "1               23111014.74  80774.91  0.349508\n",
       "2                1510753.75   4925.90  0.326056\n",
       "3                3466725.71  18840.10  0.543455"
      ]
     },
     "execution_count": 153,
     "metadata": {},
     "output_type": "execute_result"
    }
   ],
   "source": [
    "gra['ratio'] = (gra['cashout']/gra['gmv_not_refund'])*100\n",
    "gra"
   ]
  },
  {
   "cell_type": "markdown",
   "metadata": {},
   "source": [
    "## Conclusions Sub Clustering 0\n",
    "#### Sub Cluster 0:\n",
    "*Con 307 usuarios, en este sub cluster tenemos un 83% de trusted sellers. Aqui no tenemos usuarios con GMV high pero si el 19% tiene TPV high. En este sub cluster tenemos un 14% de usuarios UP pero un 88% de usuarios con adelantos. Este sub cluster cuenta con los seller con menos ratio de CO/GMV. En este sub cluster tenemos los trusted sellers chicos mas lindos.*\n",
    "#### Sub Cluster 1:\n",
    "*En este sub cluster tenemos 669 usuarios de los cuales practicamente todos son trusted sellers. En este cluster todos los selles son de GMV low pero de TPV high. Solo el 44% de ellos son UPs pero el 92% tienen adelantos activos. Aqui tenemos 424 usuarios que pertenecen a la cartera asesorada. Este sub cluster tiene los mejores usuarios del cluster 0 los cuales a pesar de no ser grandes en el ON si lo son en el OFF.*\n",
    "#### Sub Cluster 2:\n",
    "*Este sub cluster cuenta con 467 usuarios de los cuales solo el 61% de ellos son trusted sellers. Aqui todos los usuarios son de GMV low y pocos de ellos tiene TPV high. Solo el 20% de los usuarios son UPs y el 13% tiene adelantos acticvos. Menos de la mitada de estos usuarios son asesorados.\n",
    "En este sub cluster se encuentran los peores uisuarios del clsuter 0*\n",
    "#### Sub Cluster 3:\n",
    "*Este sub cluster cuenta con 245 usuarios de los cuales practicamente todos son trusted sellers. Los usuarios de este sub cluster estan todos activos pero son de TPV y GMV low. Solo el 29% de los usuarios son UPs pero el 84% de ellos tienen activos los adelantos. En este sub cluster el 81% de los usuarios pertenecen a la cartera asesorada. Aqui tenemos el clsuter con mayor ratio de CO/GMV.\n",
    "Este sub cluster cuenta con los usuarios trusted sellers mas grises.*"
   ]
  }
 ],
 "metadata": {
  "kernelspec": {
   "display_name": "Python 3",
   "language": "python",
   "name": "python3"
  },
  "language_info": {
   "codemirror_mode": {
    "name": "ipython",
    "version": 3
   },
   "file_extension": ".py",
   "mimetype": "text/x-python",
   "name": "python",
   "nbconvert_exporter": "python",
   "pygments_lexer": "ipython3",
   "version": "3.8.5"
  }
 },
 "nbformat": 4,
 "nbformat_minor": 4
}
